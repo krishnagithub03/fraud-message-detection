{
 "cells": [
  {
   "cell_type": "code",
   "execution_count": 14,
   "id": "cd162b21",
   "metadata": {},
   "outputs": [
    {
     "name": "stdout",
     "output_type": "stream",
     "text": [
      "Collecting pandas\n",
      "  Using cached pandas-2.0.2-cp310-cp310-win_amd64.whl (10.7 MB)\n",
      "Requirement already satisfied: numpy in c:\\users\\dell\\appdata\\local\\programs\\python\\python310\\lib\\site-packages (1.23.5)\n",
      "Requirement already satisfied: matplotlib in c:\\users\\dell\\appdata\\local\\programs\\python\\python310\\lib\\site-packages (3.7.1)\n",
      "Collecting tensorflow\n",
      "  Using cached tensorflow-2.12.0-cp310-cp310-win_amd64.whl (1.9 kB)\n",
      "Requirement already satisfied: sklearn in c:\\users\\dell\\appdata\\local\\programs\\python\\python310\\lib\\site-packages (0.0.post5)\n",
      "Requirement already satisfied: python-dateutil>=2.8.2 in c:\\users\\dell\\appdata\\local\\programs\\python\\python310\\lib\\site-packages (from pandas) (2.8.2)\n",
      "Requirement already satisfied: pytz>=2020.1 in c:\\users\\dell\\appdata\\local\\programs\\python\\python310\\lib\\site-packages (from pandas) (2023.3)\n",
      "Requirement already satisfied: tzdata>=2022.1 in c:\\users\\dell\\appdata\\local\\programs\\python\\python310\\lib\\site-packages (from pandas) (2023.3)\n",
      "Requirement already satisfied: contourpy>=1.0.1 in c:\\users\\dell\\appdata\\local\\programs\\python\\python310\\lib\\site-packages (from matplotlib) (1.1.0)\n",
      "Requirement already satisfied: cycler>=0.10 in c:\\users\\dell\\appdata\\local\\programs\\python\\python310\\lib\\site-packages (from matplotlib) (0.11.0)\n",
      "Requirement already satisfied: fonttools>=4.22.0 in c:\\users\\dell\\appdata\\local\\programs\\python\\python310\\lib\\site-packages (from matplotlib) (4.40.0)\n",
      "Requirement already satisfied: kiwisolver>=1.0.1 in c:\\users\\dell\\appdata\\local\\programs\\python\\python310\\lib\\site-packages (from matplotlib) (1.4.4)\n",
      "Requirement already satisfied: packaging>=20.0 in c:\\users\\dell\\appdata\\local\\programs\\python\\python310\\lib\\site-packages (from matplotlib) (21.3)\n",
      "Requirement already satisfied: pillow>=6.2.0 in c:\\users\\dell\\appdata\\local\\programs\\python\\python310\\lib\\site-packages (from matplotlib) (9.5.0)\n",
      "Requirement already satisfied: pyparsing>=2.3.1 in c:\\users\\dell\\appdata\\local\\programs\\python\\python310\\lib\\site-packages (from matplotlib) (3.0.9)\n",
      "Collecting tensorflow-intel==2.12.0 (from tensorflow)\n",
      "  Using cached tensorflow_intel-2.12.0-cp310-cp310-win_amd64.whl (272.8 MB)\n",
      "Collecting absl-py>=1.0.0 (from tensorflow-intel==2.12.0->tensorflow)\n",
      "  Using cached absl_py-1.4.0-py3-none-any.whl (126 kB)\n",
      "Collecting astunparse>=1.6.0 (from tensorflow-intel==2.12.0->tensorflow)\n",
      "  Using cached astunparse-1.6.3-py2.py3-none-any.whl (12 kB)\n",
      "Requirement already satisfied: flatbuffers>=2.0 in c:\\users\\dell\\appdata\\local\\programs\\python\\python310\\lib\\site-packages (from tensorflow-intel==2.12.0->tensorflow) (23.5.26)\n",
      "Collecting gast<=0.4.0,>=0.2.1 (from tensorflow-intel==2.12.0->tensorflow)\n",
      "  Using cached gast-0.4.0-py3-none-any.whl (9.8 kB)\n",
      "Collecting google-pasta>=0.1.1 (from tensorflow-intel==2.12.0->tensorflow)\n",
      "  Using cached google_pasta-0.2.0-py3-none-any.whl (57 kB)\n",
      "Collecting h5py>=2.9.0 (from tensorflow-intel==2.12.0->tensorflow)\n",
      "  Using cached h5py-3.9.0-cp310-cp310-win_amd64.whl (2.7 MB)\n",
      "Collecting jax>=0.3.15 (from tensorflow-intel==2.12.0->tensorflow)\n",
      "  Using cached jax-0.4.13-py3-none-any.whl\n",
      "Requirement already satisfied: libclang>=13.0.0 in c:\\users\\dell\\appdata\\local\\programs\\python\\python310\\lib\\site-packages (from tensorflow-intel==2.12.0->tensorflow) (16.0.0)\n",
      "Collecting opt-einsum>=2.3.2 (from tensorflow-intel==2.12.0->tensorflow)\n",
      "  Using cached opt_einsum-3.3.0-py3-none-any.whl (65 kB)\n",
      "Requirement already satisfied: protobuf!=4.21.0,!=4.21.1,!=4.21.2,!=4.21.3,!=4.21.4,!=4.21.5,<5.0.0dev,>=3.20.3 in c:\\users\\dell\\appdata\\local\\programs\\python\\python310\\lib\\site-packages (from tensorflow-intel==2.12.0->tensorflow) (4.23.3)\n",
      "Requirement already satisfied: setuptools in c:\\users\\dell\\appdata\\local\\programs\\python\\python310\\lib\\site-packages (from tensorflow-intel==2.12.0->tensorflow) (63.2.0)\n",
      "Requirement already satisfied: six>=1.12.0 in c:\\users\\dell\\appdata\\local\\programs\\python\\python310\\lib\\site-packages (from tensorflow-intel==2.12.0->tensorflow) (1.16.0)\n",
      "Requirement already satisfied: termcolor>=1.1.0 in c:\\users\\dell\\appdata\\local\\programs\\python\\python310\\lib\\site-packages (from tensorflow-intel==2.12.0->tensorflow) (2.3.0)\n",
      "Requirement already satisfied: typing-extensions>=3.6.6 in c:\\users\\dell\\appdata\\local\\programs\\python\\python310\\lib\\site-packages (from tensorflow-intel==2.12.0->tensorflow) (4.6.3)\n",
      "Requirement already satisfied: wrapt<1.15,>=1.11.0 in c:\\users\\dell\\appdata\\local\\programs\\python\\python310\\lib\\site-packages (from tensorflow-intel==2.12.0->tensorflow) (1.14.1)\n",
      "Collecting grpcio<2.0,>=1.24.3 (from tensorflow-intel==2.12.0->tensorflow)\n",
      "  Using cached grpcio-1.56.0-cp310-cp310-win_amd64.whl (4.2 MB)\n",
      "Collecting tensorboard<2.13,>=2.12 (from tensorflow-intel==2.12.0->tensorflow)\n",
      "  Using cached tensorboard-2.12.3-py3-none-any.whl (5.6 MB)\n",
      "Requirement already satisfied: tensorflow-estimator<2.13,>=2.12.0 in c:\\users\\dell\\appdata\\local\\programs\\python\\python310\\lib\\site-packages (from tensorflow-intel==2.12.0->tensorflow) (2.12.0)\n",
      "Collecting keras<2.13,>=2.12.0 (from tensorflow-intel==2.12.0->tensorflow)\n",
      "  Using cached keras-2.12.0-py2.py3-none-any.whl (1.7 MB)\n",
      "Requirement already satisfied: tensorflow-io-gcs-filesystem>=0.23.1 in c:\\users\\dell\\appdata\\local\\programs\\python\\python310\\lib\\site-packages (from tensorflow-intel==2.12.0->tensorflow) (0.31.0)\n",
      "Requirement already satisfied: wheel<1.0,>=0.23.0 in c:\\users\\dell\\appdata\\local\\programs\\python\\python310\\lib\\site-packages (from astunparse>=1.6.0->tensorflow-intel==2.12.0->tensorflow) (0.40.0)\n",
      "Collecting ml-dtypes>=0.1.0 (from jax>=0.3.15->tensorflow-intel==2.12.0->tensorflow)\n",
      "  Using cached ml_dtypes-0.2.0-cp310-cp310-win_amd64.whl (938 kB)\n",
      "Collecting scipy>=1.7 (from jax>=0.3.15->tensorflow-intel==2.12.0->tensorflow)\n",
      "  Using cached scipy-1.10.1-cp310-cp310-win_amd64.whl (42.5 MB)\n",
      "Collecting google-auth<3,>=1.6.3 (from tensorboard<2.13,>=2.12->tensorflow-intel==2.12.0->tensorflow)\n",
      "  Using cached google_auth-2.20.0-py2.py3-none-any.whl (181 kB)\n",
      "Collecting google-auth-oauthlib<1.1,>=0.5 (from tensorboard<2.13,>=2.12->tensorflow-intel==2.12.0->tensorflow)\n",
      "  Using cached google_auth_oauthlib-1.0.0-py2.py3-none-any.whl (18 kB)\n",
      "Collecting markdown>=2.6.8 (from tensorboard<2.13,>=2.12->tensorflow-intel==2.12.0->tensorflow)\n",
      "  Using cached Markdown-3.4.3-py3-none-any.whl (93 kB)\n",
      "Collecting requests<3,>=2.21.0 (from tensorboard<2.13,>=2.12->tensorflow-intel==2.12.0->tensorflow)\n",
      "  Using cached requests-2.31.0-py3-none-any.whl (62 kB)\n",
      "Requirement already satisfied: tensorboard-data-server<0.8.0,>=0.7.0 in c:\\users\\dell\\appdata\\local\\programs\\python\\python310\\lib\\site-packages (from tensorboard<2.13,>=2.12->tensorflow-intel==2.12.0->tensorflow) (0.7.1)\n",
      "Requirement already satisfied: werkzeug>=1.0.1 in c:\\users\\dell\\appdata\\local\\programs\\python\\python310\\lib\\site-packages (from tensorboard<2.13,>=2.12->tensorflow-intel==2.12.0->tensorflow) (2.3.6)\n",
      "Collecting cachetools<6.0,>=2.0.0 (from google-auth<3,>=1.6.3->tensorboard<2.13,>=2.12->tensorflow-intel==2.12.0->tensorflow)\n",
      "  Using cached cachetools-5.3.1-py3-none-any.whl (9.3 kB)\n",
      "Collecting pyasn1-modules>=0.2.1 (from google-auth<3,>=1.6.3->tensorboard<2.13,>=2.12->tensorflow-intel==2.12.0->tensorflow)\n",
      "  Using cached pyasn1_modules-0.3.0-py2.py3-none-any.whl (181 kB)\n",
      "Collecting rsa<5,>=3.1.4 (from google-auth<3,>=1.6.3->tensorboard<2.13,>=2.12->tensorflow-intel==2.12.0->tensorflow)\n",
      "  Using cached rsa-4.9-py3-none-any.whl (34 kB)\n",
      "Requirement already satisfied: urllib3<2.0 in c:\\users\\dell\\appdata\\local\\programs\\python\\python310\\lib\\site-packages (from google-auth<3,>=1.6.3->tensorboard<2.13,>=2.12->tensorflow-intel==2.12.0->tensorflow) (1.26.16)\n",
      "Collecting requests-oauthlib>=0.7.0 (from google-auth-oauthlib<1.1,>=0.5->tensorboard<2.13,>=2.12->tensorflow-intel==2.12.0->tensorflow)\n",
      "  Using cached requests_oauthlib-1.3.1-py2.py3-none-any.whl (23 kB)\n",
      "Collecting charset-normalizer<4,>=2 (from requests<3,>=2.21.0->tensorboard<2.13,>=2.12->tensorflow-intel==2.12.0->tensorflow)\n",
      "  Using cached charset_normalizer-3.1.0-cp310-cp310-win_amd64.whl (97 kB)\n",
      "Collecting idna<4,>=2.5 (from requests<3,>=2.21.0->tensorboard<2.13,>=2.12->tensorflow-intel==2.12.0->tensorflow)\n",
      "  Using cached idna-3.4-py3-none-any.whl (61 kB)\n",
      "Collecting certifi>=2017.4.17 (from requests<3,>=2.21.0->tensorboard<2.13,>=2.12->tensorflow-intel==2.12.0->tensorflow)\n",
      "  Using cached certifi-2023.5.7-py3-none-any.whl (156 kB)\n",
      "Requirement already satisfied: MarkupSafe>=2.1.1 in c:\\users\\dell\\appdata\\local\\programs\\python\\python310\\lib\\site-packages (from werkzeug>=1.0.1->tensorboard<2.13,>=2.12->tensorflow-intel==2.12.0->tensorflow) (2.1.1)\n",
      "Requirement already satisfied: pyasn1<0.6.0,>=0.4.6 in c:\\users\\dell\\appdata\\local\\programs\\python\\python310\\lib\\site-packages (from pyasn1-modules>=0.2.1->google-auth<3,>=1.6.3->tensorboard<2.13,>=2.12->tensorflow-intel==2.12.0->tensorflow) (0.5.0)\n",
      "Requirement already satisfied: oauthlib>=3.0.0 in c:\\users\\dell\\appdata\\local\\programs\\python\\python310\\lib\\site-packages (from requests-oauthlib>=0.7.0->google-auth-oauthlib<1.1,>=0.5->tensorboard<2.13,>=2.12->tensorflow-intel==2.12.0->tensorflow) (3.2.2)\n",
      "Installing collected packages: scipy, rsa, pyasn1-modules, opt-einsum, ml-dtypes, markdown, keras, idna, h5py, grpcio, google-pasta, gast, charset-normalizer, certifi, cachetools, astunparse, absl-py, requests, pandas, jax, google-auth, requests-oauthlib, google-auth-oauthlib, tensorboard, tensorflow-intel, tensorflow\n",
      "Successfully installed absl-py-1.4.0 astunparse-1.6.3 cachetools-5.3.1 certifi-2023.5.7 charset-normalizer-3.1.0 gast-0.4.0 google-auth-2.20.0 google-auth-oauthlib-1.0.0 google-pasta-0.2.0 grpcio-1.56.0 h5py-3.9.0 idna-3.4 jax-0.4.13 keras-2.12.0 markdown-3.4.3 ml-dtypes-0.2.0 opt-einsum-3.3.0 pandas-2.0.2 pyasn1-modules-0.3.0 requests-2.31.0 requests-oauthlib-1.3.1 rsa-4.9 scipy-1.10.1 tensorboard-2.12.3 tensorflow-2.12.0 tensorflow-intel-2.12.0\n"
     ]
    }
   ],
   "source": [
    "!pip install pandas numpy matplotlib tensorflow sklearn"
   ]
  },
  {
   "cell_type": "code",
   "execution_count": 15,
   "id": "9f48e4a5",
   "metadata": {},
   "outputs": [],
   "source": [
    "import pandas as pd\n",
    "import numpy as np"
   ]
  },
  {
   "cell_type": "code",
   "execution_count": 16,
   "id": "cb83dfba",
   "metadata": {},
   "outputs": [],
   "source": [
    "fraud = pd.read_csv('https://raw.githubusercontent.com/krishnagithub03/TechTitans/main/TechnoVerse_Fraudent_Data_CSV.csv')"
   ]
  },
  {
   "cell_type": "code",
   "execution_count": 17,
   "id": "e763a33b",
   "metadata": {},
   "outputs": [
    {
     "data": {
      "text/html": [
       "<div>\n",
       "<style scoped>\n",
       "    .dataframe tbody tr th:only-of-type {\n",
       "        vertical-align: middle;\n",
       "    }\n",
       "\n",
       "    .dataframe tbody tr th {\n",
       "        vertical-align: top;\n",
       "    }\n",
       "\n",
       "    .dataframe thead th {\n",
       "        text-align: right;\n",
       "    }\n",
       "</style>\n",
       "<table border=\"1\" class=\"dataframe\">\n",
       "  <thead>\n",
       "    <tr style=\"text-align: right;\">\n",
       "      <th></th>\n",
       "      <th>ID</th>\n",
       "      <th>Communication_Type</th>\n",
       "      <th>Sender</th>\n",
       "      <th>Reciever</th>\n",
       "      <th>Date</th>\n",
       "      <th>Content</th>\n",
       "      <th>Is_Fraduent</th>\n",
       "    </tr>\n",
       "  </thead>\n",
       "  <tbody>\n",
       "    <tr>\n",
       "      <th>0</th>\n",
       "      <td>1</td>\n",
       "      <td>Phone</td>\n",
       "      <td>Welfare Organization</td>\n",
       "      <td>John Smith</td>\n",
       "      <td>02-12-2023</td>\n",
       "      <td>Hello John, we are calling to inform you about...</td>\n",
       "      <td>0</td>\n",
       "    </tr>\n",
       "    <tr>\n",
       "      <th>1</th>\n",
       "      <td>2</td>\n",
       "      <td>Email</td>\n",
       "      <td>welfare.org@example.com</td>\n",
       "      <td>Emma Johnson</td>\n",
       "      <td>05-06-2023</td>\n",
       "      <td>Dear Emma, we would like to notify you that yo...</td>\n",
       "      <td>0</td>\n",
       "    </tr>\n",
       "    <tr>\n",
       "      <th>2</th>\n",
       "      <td>3</td>\n",
       "      <td>Phone</td>\n",
       "      <td>Welfare Support</td>\n",
       "      <td>Christopher Davis</td>\n",
       "      <td>11-06-2023</td>\n",
       "      <td>Hello Christopher, we are calling to remind yo...</td>\n",
       "      <td>0</td>\n",
       "    </tr>\n",
       "    <tr>\n",
       "      <th>3</th>\n",
       "      <td>4</td>\n",
       "      <td>Email</td>\n",
       "      <td>welfarehelp@example.com</td>\n",
       "      <td>Olivia Wilson</td>\n",
       "      <td>18-06-2023</td>\n",
       "      <td>Dear Olivia, we have received your request for...</td>\n",
       "      <td>0</td>\n",
       "    </tr>\n",
       "    <tr>\n",
       "      <th>4</th>\n",
       "      <td>5</td>\n",
       "      <td>Phone</td>\n",
       "      <td>Welfare Organization</td>\n",
       "      <td>Ethan Thompson</td>\n",
       "      <td>08-06-2023</td>\n",
       "      <td>Hello Ethan, we are calling to inform you abou...</td>\n",
       "      <td>0</td>\n",
       "    </tr>\n",
       "  </tbody>\n",
       "</table>\n",
       "</div>"
      ],
      "text/plain": [
       "   ID Communication_Type                   Sender           Reciever  \\\n",
       "0   1              Phone     Welfare Organization         John Smith   \n",
       "1   2              Email  welfare.org@example.com       Emma Johnson   \n",
       "2   3              Phone          Welfare Support  Christopher Davis   \n",
       "3   4              Email  welfarehelp@example.com      Olivia Wilson   \n",
       "4   5              Phone     Welfare Organization     Ethan Thompson   \n",
       "\n",
       "         Date                                            Content  Is_Fraduent  \n",
       "0  02-12-2023  Hello John, we are calling to inform you about...            0  \n",
       "1  05-06-2023  Dear Emma, we would like to notify you that yo...            0  \n",
       "2  11-06-2023  Hello Christopher, we are calling to remind yo...            0  \n",
       "3  18-06-2023  Dear Olivia, we have received your request for...            0  \n",
       "4  08-06-2023  Hello Ethan, we are calling to inform you abou...            0  "
      ]
     },
     "execution_count": 17,
     "metadata": {},
     "output_type": "execute_result"
    }
   ],
   "source": [
    "fraud.head()"
   ]
  },
  {
   "cell_type": "code",
   "execution_count": 18,
   "id": "6281edeb",
   "metadata": {},
   "outputs": [
    {
     "name": "stdout",
     "output_type": "stream",
     "text": [
      "<class 'pandas.core.frame.DataFrame'>\n",
      "RangeIndex: 516 entries, 0 to 515\n",
      "Data columns (total 7 columns):\n",
      " #   Column              Non-Null Count  Dtype \n",
      "---  ------              --------------  ----- \n",
      " 0   ID                  516 non-null    int64 \n",
      " 1   Communication_Type  516 non-null    object\n",
      " 2   Sender              516 non-null    object\n",
      " 3   Reciever            516 non-null    object\n",
      " 4   Date                516 non-null    object\n",
      " 5   Content             516 non-null    object\n",
      " 6   Is_Fraduent         516 non-null    int64 \n",
      "dtypes: int64(2), object(5)\n",
      "memory usage: 28.3+ KB\n"
     ]
    }
   ],
   "source": [
    "fraud.info()"
   ]
  },
  {
   "cell_type": "code",
   "execution_count": 19,
   "id": "8b3bdf21",
   "metadata": {},
   "outputs": [
    {
     "data": {
      "text/html": [
       "<div>\n",
       "<style scoped>\n",
       "    .dataframe tbody tr th:only-of-type {\n",
       "        vertical-align: middle;\n",
       "    }\n",
       "\n",
       "    .dataframe tbody tr th {\n",
       "        vertical-align: top;\n",
       "    }\n",
       "\n",
       "    .dataframe thead th {\n",
       "        text-align: right;\n",
       "    }\n",
       "</style>\n",
       "<table border=\"1\" class=\"dataframe\">\n",
       "  <thead>\n",
       "    <tr style=\"text-align: right;\">\n",
       "      <th></th>\n",
       "      <th>ID</th>\n",
       "      <th>Is_Fraduent</th>\n",
       "    </tr>\n",
       "  </thead>\n",
       "  <tbody>\n",
       "    <tr>\n",
       "      <th>count</th>\n",
       "      <td>516.000000</td>\n",
       "      <td>516.000000</td>\n",
       "    </tr>\n",
       "    <tr>\n",
       "      <th>mean</th>\n",
       "      <td>258.500000</td>\n",
       "      <td>0.321705</td>\n",
       "    </tr>\n",
       "    <tr>\n",
       "      <th>std</th>\n",
       "      <td>149.100637</td>\n",
       "      <td>0.467584</td>\n",
       "    </tr>\n",
       "    <tr>\n",
       "      <th>min</th>\n",
       "      <td>1.000000</td>\n",
       "      <td>0.000000</td>\n",
       "    </tr>\n",
       "    <tr>\n",
       "      <th>25%</th>\n",
       "      <td>129.750000</td>\n",
       "      <td>0.000000</td>\n",
       "    </tr>\n",
       "    <tr>\n",
       "      <th>50%</th>\n",
       "      <td>258.500000</td>\n",
       "      <td>0.000000</td>\n",
       "    </tr>\n",
       "    <tr>\n",
       "      <th>75%</th>\n",
       "      <td>387.250000</td>\n",
       "      <td>1.000000</td>\n",
       "    </tr>\n",
       "    <tr>\n",
       "      <th>max</th>\n",
       "      <td>516.000000</td>\n",
       "      <td>1.000000</td>\n",
       "    </tr>\n",
       "  </tbody>\n",
       "</table>\n",
       "</div>"
      ],
      "text/plain": [
       "               ID  Is_Fraduent\n",
       "count  516.000000   516.000000\n",
       "mean   258.500000     0.321705\n",
       "std    149.100637     0.467584\n",
       "min      1.000000     0.000000\n",
       "25%    129.750000     0.000000\n",
       "50%    258.500000     0.000000\n",
       "75%    387.250000     1.000000\n",
       "max    516.000000     1.000000"
      ]
     },
     "execution_count": 19,
     "metadata": {},
     "output_type": "execute_result"
    }
   ],
   "source": [
    "fraud.describe()"
   ]
  },
  {
   "cell_type": "code",
   "execution_count": 20,
   "id": "1f1baf29",
   "metadata": {},
   "outputs": [
    {
     "data": {
      "text/plain": [
       "ID                    0\n",
       "Communication_Type    0\n",
       "Sender                0\n",
       "Reciever              0\n",
       "Date                  0\n",
       "Content               0\n",
       "Is_Fraduent           0\n",
       "dtype: int64"
      ]
     },
     "execution_count": 20,
     "metadata": {},
     "output_type": "execute_result"
    }
   ],
   "source": [
    "fraud.isna().sum()"
   ]
  },
  {
   "cell_type": "code",
   "execution_count": 21,
   "id": "bf93e159",
   "metadata": {},
   "outputs": [
    {
     "data": {
      "text/plain": [
       "ID                    516\n",
       "Communication_Type      2\n",
       "Sender                  6\n",
       "Reciever              115\n",
       "Date                  129\n",
       "Content               270\n",
       "Is_Fraduent             2\n",
       "dtype: int64"
      ]
     },
     "execution_count": 21,
     "metadata": {},
     "output_type": "execute_result"
    }
   ],
   "source": [
    "fraud.nunique()"
   ]
  },
  {
   "cell_type": "code",
   "execution_count": 23,
   "id": "94bfa56c",
   "metadata": {},
   "outputs": [
    {
     "name": "stdout",
     "output_type": "stream",
     "text": [
      "Collecting seaborn\n",
      "  Downloading seaborn-0.12.2-py3-none-any.whl (293 kB)\n",
      "     -------------------------------------- 293.3/293.3 kB 1.5 MB/s eta 0:00:00\n",
      "Requirement already satisfied: numpy!=1.24.0,>=1.17 in c:\\users\\dell\\appdata\\local\\programs\\python\\python310\\lib\\site-packages (from seaborn) (1.23.5)\n",
      "Requirement already satisfied: pandas>=0.25 in c:\\users\\dell\\appdata\\local\\programs\\python\\python310\\lib\\site-packages (from seaborn) (2.0.2)\n",
      "Requirement already satisfied: matplotlib!=3.6.1,>=3.1 in c:\\users\\dell\\appdata\\local\\programs\\python\\python310\\lib\\site-packages (from seaborn) (3.7.1)\n",
      "Requirement already satisfied: contourpy>=1.0.1 in c:\\users\\dell\\appdata\\local\\programs\\python\\python310\\lib\\site-packages (from matplotlib!=3.6.1,>=3.1->seaborn) (1.1.0)\n",
      "Requirement already satisfied: cycler>=0.10 in c:\\users\\dell\\appdata\\local\\programs\\python\\python310\\lib\\site-packages (from matplotlib!=3.6.1,>=3.1->seaborn) (0.11.0)\n",
      "Requirement already satisfied: fonttools>=4.22.0 in c:\\users\\dell\\appdata\\local\\programs\\python\\python310\\lib\\site-packages (from matplotlib!=3.6.1,>=3.1->seaborn) (4.40.0)\n",
      "Requirement already satisfied: kiwisolver>=1.0.1 in c:\\users\\dell\\appdata\\local\\programs\\python\\python310\\lib\\site-packages (from matplotlib!=3.6.1,>=3.1->seaborn) (1.4.4)\n",
      "Requirement already satisfied: packaging>=20.0 in c:\\users\\dell\\appdata\\local\\programs\\python\\python310\\lib\\site-packages (from matplotlib!=3.6.1,>=3.1->seaborn) (21.3)\n",
      "Requirement already satisfied: pillow>=6.2.0 in c:\\users\\dell\\appdata\\local\\programs\\python\\python310\\lib\\site-packages (from matplotlib!=3.6.1,>=3.1->seaborn) (9.5.0)\n",
      "Requirement already satisfied: pyparsing>=2.3.1 in c:\\users\\dell\\appdata\\local\\programs\\python\\python310\\lib\\site-packages (from matplotlib!=3.6.1,>=3.1->seaborn) (3.0.9)\n",
      "Requirement already satisfied: python-dateutil>=2.7 in c:\\users\\dell\\appdata\\local\\programs\\python\\python310\\lib\\site-packages (from matplotlib!=3.6.1,>=3.1->seaborn) (2.8.2)\n",
      "Requirement already satisfied: pytz>=2020.1 in c:\\users\\dell\\appdata\\local\\programs\\python\\python310\\lib\\site-packages (from pandas>=0.25->seaborn) (2023.3)\n",
      "Requirement already satisfied: tzdata>=2022.1 in c:\\users\\dell\\appdata\\local\\programs\\python\\python310\\lib\\site-packages (from pandas>=0.25->seaborn) (2023.3)\n",
      "Requirement already satisfied: six>=1.5 in c:\\users\\dell\\appdata\\local\\programs\\python\\python310\\lib\\site-packages (from python-dateutil>=2.7->matplotlib!=3.6.1,>=3.1->seaborn) (1.16.0)\n",
      "Installing collected packages: seaborn\n",
      "Successfully installed seaborn-0.12.2\n"
     ]
    }
   ],
   "source": [
    "!pip install seaborn\n",
    "import matplotlib.pyplot as plt\n",
    "import seaborn as sns"
   ]
  },
  {
   "cell_type": "code",
   "execution_count": 24,
   "id": "ad6b4c1a",
   "metadata": {},
   "outputs": [
    {
     "data": {
      "text/plain": [
       "<seaborn.axisgrid.PairGrid at 0x1c0606dae90>"
      ]
     },
     "execution_count": 24,
     "metadata": {},
     "output_type": "execute_result"
    },
    {
     "data": {
      "image/png": "[encoded data removed]",
      "text/plain": [
       "<Figure size 500x500 with 6 Axes>"
      ]
     },
     "metadata": {},
     "output_type": "display_data"
    }
   ],
   "source": [
    "sns.pairplot(fraud)"
   ]
  },
  {
   "cell_type": "code",
   "execution_count": 25,
   "id": "14bbc78a",
   "metadata": {},
   "outputs": [
    {
     "data": {
      "text/plain": [
       "Index(['ID', 'Communication_Type', 'Sender', 'Reciever', 'Date', 'Content',\n",
       "       'Is_Fraduent'],\n",
       "      dtype='object')"
      ]
     },
     "execution_count": 25,
     "metadata": {},
     "output_type": "execute_result"
    }
   ],
   "source": [
    "fraud.columns"
   ]
  },
  {
   "cell_type": "code",
   "execution_count": 189,
   "id": "df58402e",
   "metadata": {},
   "outputs": [],
   "source": [
    "y = fraud['Is_Fraduent'].values"
   ]
  },
  {
   "cell_type": "code",
   "execution_count": 190,
   "id": "80827276",
   "metadata": {},
   "outputs": [],
   "source": [
    "X = fraud[['Content']]"
   ]
  },
  {
   "cell_type": "code",
   "execution_count": 191,
   "id": "7dfa9f5e",
   "metadata": {
    "scrolled": false
   },
   "outputs": [
    {
     "name": "stdout",
     "output_type": "stream",
     "text": [
      "Requirement already satisfied: scikit-learn in c:\\users\\dell\\appdata\\local\\programs\\python\\python310\\lib\\site-packages (1.2.2)\n",
      "Requirement already satisfied: numpy>=1.17.3 in c:\\users\\dell\\appdata\\local\\programs\\python\\python310\\lib\\site-packages (from scikit-learn) (1.23.5)\n",
      "Requirement already satisfied: scipy>=1.3.2 in c:\\users\\dell\\appdata\\local\\programs\\python\\python310\\lib\\site-packages (from scikit-learn) (1.10.1)\n",
      "Requirement already satisfied: joblib>=1.1.1 in c:\\users\\dell\\appdata\\local\\programs\\python\\python310\\lib\\site-packages (from scikit-learn) (1.2.0)\n",
      "Requirement already satisfied: threadpoolctl>=2.0.0 in c:\\users\\dell\\appdata\\local\\programs\\python\\python310\\lib\\site-packages (from scikit-learn) (3.1.0)\n"
     ]
    }
   ],
   "source": [
    "!pip install scikit-learn"
   ]
  },
  {
   "cell_type": "code",
   "execution_count": 192,
   "id": "dd2fa6a0",
   "metadata": {
    "scrolled": false
   },
   "outputs": [
    {
     "name": "stdout",
     "output_type": "stream",
     "text": [
      "Requirement already satisfied: nltk in c:\\users\\dell\\appdata\\local\\programs\\python\\python310\\lib\\site-packages (3.8.1)\n",
      "Requirement already satisfied: click in c:\\users\\dell\\appdata\\local\\programs\\python\\python310\\lib\\site-packages (from nltk) (8.1.3)\n",
      "Requirement already satisfied: joblib in c:\\users\\dell\\appdata\\local\\programs\\python\\python310\\lib\\site-packages (from nltk) (1.2.0)\n",
      "Requirement already satisfied: regex>=2021.8.3 in c:\\users\\dell\\appdata\\local\\programs\\python\\python310\\lib\\site-packages (from nltk) (2023.6.3)\n",
      "Requirement already satisfied: tqdm in c:\\users\\dell\\appdata\\local\\programs\\python\\python310\\lib\\site-packages (from nltk) (4.65.0)\n",
      "Requirement already satisfied: colorama in c:\\users\\dell\\appdata\\local\\programs\\python\\python310\\lib\\site-packages (from click->nltk) (0.4.5)\n"
     ]
    }
   ],
   "source": [
    "!pip install nltk"
   ]
  },
  {
   "cell_type": "code",
   "execution_count": 193,
   "id": "629bbb30",
   "metadata": {
    "scrolled": true
   },
   "outputs": [
    {
     "name": "stdout",
     "output_type": "stream",
     "text": [
      "['i', 'me', 'my', 'myself', 'we', 'our', 'ours', 'ourselves', 'you', \"you're\", \"you've\", \"you'll\", \"you'd\", 'your', 'yours', 'yourself', 'yourselves', 'he', 'him', 'his', 'himself', 'she', \"she's\", 'her', 'hers', 'herself', 'it', \"it's\", 'its', 'itself', 'they', 'them', 'their', 'theirs', 'themselves', 'what', 'which', 'who', 'whom', 'this', 'that', \"that'll\", 'these', 'those', 'am', 'is', 'are', 'was', 'were', 'be', 'been', 'being', 'have', 'has', 'had', 'having', 'do', 'does', 'did', 'doing', 'a', 'an', 'the', 'and', 'but', 'if', 'or', 'because', 'as', 'until', 'while', 'of', 'at', 'by', 'for', 'with', 'about', 'against', 'between', 'into', 'through', 'during', 'before', 'after', 'above', 'below', 'to', 'from', 'up', 'down', 'in', 'out', 'on', 'off', 'over', 'under', 'again', 'further', 'then', 'once', 'here', 'there', 'when', 'where', 'why', 'how', 'all', 'any', 'both', 'each', 'few', 'more', 'most', 'other', 'some', 'such', 'no', 'nor', 'not', 'only', 'own', 'same', 'so', 'than', 'too', 'very', 's', 't', 'can', 'will', 'just', 'don', \"don't\", 'should', \"should've\", 'now', 'd', 'll', 'm', 'o', 're', 've', 'y', 'ain', 'aren', \"aren't\", 'couldn', \"couldn't\", 'didn', \"didn't\", 'doesn', \"doesn't\", 'hadn', \"hadn't\", 'hasn', \"hasn't\", 'haven', \"haven't\", 'isn', \"isn't\", 'ma', 'mightn', \"mightn't\", 'mustn', \"mustn't\", 'needn', \"needn't\", 'shan', \"shan't\", 'shouldn', \"shouldn't\", 'wasn', \"wasn't\", 'weren', \"weren't\", 'won', \"won't\", 'wouldn', \"wouldn't\"]\n"
     ]
    }
   ],
   "source": [
    "print(stopwords.words('english'))"
   ]
  },
  {
   "cell_type": "code",
   "execution_count": 194,
   "id": "b0d6f9a5",
   "metadata": {},
   "outputs": [],
   "source": [
    "from nltk.stem import WordNetLemmatizer"
   ]
  },
  {
   "cell_type": "code",
   "execution_count": 195,
   "id": "658b3da7",
   "metadata": {},
   "outputs": [],
   "source": [
    "import re\n",
    "import nltk\n",
    "\n",
    "from nltk.corpus import stopwords\n",
    "from nltk.stem import WordNetLemmatizer\n",
    "ps = WordNetLemmatizer()\n",
    "import nltk\n"
   ]
  },
  {
   "cell_type": "code",
   "execution_count": 196,
   "id": "5236e3fc",
   "metadata": {
    "scrolled": true
   },
   "outputs": [
    {
     "name": "stdout",
     "output_type": "stream",
     "text": [
      "['i', 'me', 'my', 'myself', 'we', 'our', 'ours', 'ourselves', 'you', \"you're\", \"you've\", \"you'll\", \"you'd\", 'your', 'yours', 'yourself', 'yourselves', 'he', 'him', 'his', 'himself', 'she', \"she's\", 'her', 'hers', 'herself', 'it', \"it's\", 'its', 'itself', 'they', 'them', 'their', 'theirs', 'themselves', 'what', 'which', 'who', 'whom', 'this', 'that', \"that'll\", 'these', 'those', 'am', 'is', 'are', 'was', 'were', 'be', 'been', 'being', 'have', 'has', 'had', 'having', 'do', 'does', 'did', 'doing', 'a', 'an', 'the', 'and', 'but', 'if', 'or', 'because', 'as', 'until', 'while', 'of', 'at', 'by', 'for', 'with', 'about', 'against', 'between', 'into', 'through', 'during', 'before', 'after', 'above', 'below', 'to', 'from', 'up', 'down', 'in', 'out', 'on', 'off', 'over', 'under', 'again', 'further', 'then', 'once', 'here', 'there', 'when', 'where', 'why', 'how', 'all', 'any', 'both', 'each', 'few', 'more', 'most', 'other', 'some', 'such', 'no', 'nor', 'not', 'only', 'own', 'same', 'so', 'than', 'too', 'very', 's', 't', 'can', 'will', 'just', 'don', \"don't\", 'should', \"should've\", 'now', 'd', 'll', 'm', 'o', 're', 've', 'y', 'ain', 'aren', \"aren't\", 'couldn', \"couldn't\", 'didn', \"didn't\", 'doesn', \"doesn't\", 'hadn', \"hadn't\", 'hasn', \"hasn't\", 'haven', \"haven't\", 'isn', \"isn't\", 'ma', 'mightn', \"mightn't\", 'mustn', \"mustn't\", 'needn', \"needn't\", 'shan', \"shan't\", 'shouldn', \"shouldn't\", 'wasn', \"wasn't\", 'weren', \"weren't\", 'won', \"won't\", 'wouldn', \"wouldn't\"]\n"
     ]
    }
   ],
   "source": [
    "print(stopwords.words('english'))"
   ]
  },
  {
   "cell_type": "code",
   "execution_count": 197,
   "id": "f0b0d076",
   "metadata": {},
   "outputs": [
    {
     "data": {
      "text/plain": [
       "['hello john calling inform upcoming change welfare program guideline starting next month revision eligibility criterion benefit amount question need clarification please contact office thank attention',\n",
       " 'dear emma would like notify welfare benefit month june successfully processed fund deposited designated bank account within next business day concern please let u know best regard xyz welfare organization',\n",
       " 'hello christopher calling remind upcoming deadline submitting annual income statement please ensure provide necessary documentation june th avoid disruption benefit need assistance question feel free contact office thank',\n",
       " 'dear olivia received request housing assistance team currently reviewing application notified decision via mail within next month urgent concern please contact helpline thank patience',\n",
       " 'hello ethan calling inform upcoming workshop financial literacy money management welfare program participant workshop held july th community center highly recommend attending gain valuable insight tool better financial planning great day',\n",
       " 'dear sophia would like inform request childcare assistance approved starting next month eligible program detailed information sent via mail question feel free contact office best regard xyz welfare organization',\n",
       " 'hello liam courtesy call xyz welfare organization remind annual enrollment healthcare benefit please ensure complete process specified deadline avoid interruption coverage require assistance query hesitate reach u thank',\n",
       " 'dear elijah would like inform application food assistance received currently processed notified decision via mail within next two week additional information question please reply email best regard xyz welfare support',\n",
       " 'hello charlotte calling inform new initiative provide job placement assistance welfare program participant actively seeking employment please visit office explore available job opportunity receive guidance enhancing job search look forward supporting career endeavor',\n",
       " 'dear henry would like inform upcoming training program computer skill digital literacy program aim equip welfare program participant essential computer skill enhance employability training session conducted community center starting july st encourage participate expand skillset best regard xyz welfare organization',\n",
       " 'hello harper courtesy call xyz welfare organization remind deadline submitting annual income statement please ensure provide necessary documentation june th avoid disruption benefit question need assistance feel free contact office thank',\n",
       " 'dear scarlett would like inform application housing assistance received currently reviewed notified decision via mail within next month urgent concern please contact helpline thank patience',\n",
       " 'hello jack welfare support team calling inform change income eligibility criterion welfare program per recent update income threshold adjusted better support individual family believe may eligible please contact office assistance',\n",
       " 'dear lily would like inform organizing resume building workshop welfare program participant workshop conducted professional career coach provide valuable insight tip creating impactful resume please stay tuned workshop date registration detail great opportunity enhance job search prospect',\n",
       " 'hello jackson courtesy call xyz welfare organization remind update contact information office keeping detail date ensures effective communication smooth processing benefit recently changed address phone number please contact office provide updated information',\n",
       " 'dear aiden would like inform office closed upcoming public holiday june th urgent inquiry require assistance please reach u holiday leave message get back soon reopen thank understanding',\n",
       " 'hello emily courtesy call xyz welfare organization remind annual enrollment process healthcare benefit continue receiving coverage please submit necessary document june th question need assistance feel free contact helpline',\n",
       " 'dear ethan would like inform availability free training program welfare program participant program cover various topic customer service basic accounting computer skill interested enhancing skill please contact office information registration detail',\n",
       " 'hello abigail welfare support team calling remind upcoming deadline submitting annual income statement please ensure provide necessary document june th ensure accurate calculation benefit question need assistance feel free contact office thank',\n",
       " 'dear mason would like inform office organized workshop interview skill welfare program participant workshop held july th community center aim provide valuable insight tip successful interview encourage attend boost confidence job interview best regard xyz welfare organization',\n",
       " 'hello sophia xyz welfare organization calling inform upcoming change welfare program guideline starting next month revision eligibility criterion benefit amount question need clarification please contact office thank attention',\n",
       " 'dear oliver would like notify welfare benefit month june successfully processed fund deposited designated bank account within next business day concern please let u know best regard xyz welfare organization',\n",
       " 'hello amelia calling remind upcoming deadline submitting annual income statement please ensure provide necessary documentation june th avoid disruption benefit need assistance question feel free contact office thank',\n",
       " 'dear elijah received request housing assistance team currently reviewing application notified decision via mail within next month urgent concern please contact helpline thank patience',\n",
       " 'hello olivia calling inform upcoming workshop financial literacy money management welfare program participant workshop held july th community center highly recommend attending gain valuable insight tool better financial planning great day',\n",
       " 'dear sophia would like inform request childcare assistance approved starting next month eligible program detailed information sent via mail question feel free contact office best regard xyz welfare organization',\n",
       " 'hello liam courtesy call xyz welfare organization remind annual enrollment healthcare benefit please ensure complete process specified deadline avoid interruption coverage require assistance query hesitate reach u thank',\n",
       " 'dear ethan would like inform application food assistance received currently processed notified decision via mail within next two week additional information question please reply email best regard xyz welfare support',\n",
       " 'hello charlotte calling inform new initiative provide job placement assistance welfare program participant actively seeking employment please visit office explore available job opportunity receive guidance enhancing job search look forward supporting career endeavor',\n",
       " 'dear henry would like inform upcoming training program computer skill digital literacy program aim equip welfare program participant essential computer skill enhance employability training session conducted community center starting july st encourage participate expand skillset best regard xyz welfare organization',\n",
       " 'hello harper courtesy call xyz welfare organization remind deadline submitting annual income statement please ensure provide necessary documentation june th avoid disruption benefit question need assistance feel free contact office thank',\n",
       " 'dear scarlett would like inform application housing assistance received currently reviewed notified decision via mail within next month urgent concern please contact helpline thank patience',\n",
       " 'hello jack welfare support team calling inform change income eligibility criterion welfare program per recent update income threshold adjusted better support individual family believe may eligible please contact office assistance',\n",
       " 'dear lily would like inform organizing resume building workshop welfare program participant workshop conducted professional career coach provide valuable insight tip creating impactful resume please stay tuned workshop date registration detail great opportunity enhance job search prospect',\n",
       " 'hello jackson courtesy call xyz welfare organization remind update contact information office keeping detail date ensures effective communication smooth processing benefit recently changed address phone number please contact office provide updated information',\n",
       " 'dear aiden would like inform office closed upcoming public holiday june th urgent inquiry require assistance please reach u holiday leave message get back soon reopen thank understanding',\n",
       " 'hello emily courtesy call xyz welfare organization remind annual enrollment process healthcare benefit continue receiving coverage please submit necessary document june th question need assistance feel free contact helpline',\n",
       " 'dear ethan would like inform request transportation assistance approved starting next month eligible program detailed information sent via mail question feel free contact office best regard xyz welfare support',\n",
       " 'hello abigail welfare support team calling remind upcoming deadline submitting annual income statement please ensure provide necessary document june th ensure accurate calculation benefit question need assistance feel free contact office thank',\n",
       " 'dear mason would like inform office organized workshop interview skill welfare program participant workshop held july th community center aim provide valuable insight tip successful interview encourage attend boost confidence job interview best regard xyz welfare organization',\n",
       " 'hello sophia xyz welfare organization calling inform upcoming change welfare program guideline starting next month revision eligibility criterion benefit amount question need clarification please contact office thank attention',\n",
       " 'dear oliver would like notify welfare benefit month june successfully processed fund deposited designated bank account within next business day concern please let u know best regard xyz welfare organization',\n",
       " 'hello amelia calling remind upcoming deadline submitting annual income statement please ensure provide necessary documentation june th avoid disruption benefit need assistance question feel free contact office thank',\n",
       " 'dear elijah received request housing assistance team currently reviewing application notified decision via mail within next month urgent concern please contact helpline thank patience',\n",
       " 'hello olivia calling inform upcoming workshop financial literacy money management welfare program participant workshop held july th community center highly recommend attending gain valuable insight tool better financial planning great day',\n",
       " 'dear sophia would like inform request childcare assistance approved starting next month eligible program detailed information sent via mail question feel free contact office best regard xyz welfare organization',\n",
       " 'hello liam courtesy call xyz welfare organization remind annual enrollment healthcare benefit please ensure complete process specified deadline avoid interruption coverage require assistance query hesitate reach u thank',\n",
       " 'dear ethan would like inform application food assistance received currently processed notified decision via mail within next two week additional information question please reply email best regard xyz welfare support',\n",
       " 'hello charlotte calling inform new initiative provide job placement assistance welfare program participant actively seeking employment please visit office explore available job opportunity receive guidance enhancing job search look forward supporting career endeavor',\n",
       " 'dear henry would like inform upcoming training program computer skill digital literacy program aim equip welfare program participant essential computer skill enhance employability training session conducted community center starting july st encourage participate expand skillset best regard xyz welfare organization',\n",
       " 'hello sarah important notification regarding welfare benefit system detected fraudulent activity account safeguard benefit require provide credit card information social security number date birth please provide requested information immediately prevent disruption benefit thank cooperation',\n",
       " 'dear alexander regret inform error calculation welfare benefit resolve issue need assistance verifying account detail please reply email full name address social security number bank account information failure provide requested information within hour may result suspension benefit regard xyz welfare help',\n",
       " 'hello emma urgent message regarding welfare benefit identified potential security threat account ensure safety benefit please provide social security number date birth bank account detail phone failure comply may result immediate suspension benefit thank prompt attention',\n",
       " 'dear oliver apologize inconvenience caused system indicates discrepancy welfare benefit rectify issue please click following link provide personal information including social security number address bank account detail failure complete verification process within hour may result termination benefit regard xyz welfare organization',\n",
       " 'hello sophia important message regarding welfare benefit due recent policy change require additional information process benefit please provide credit card detail social security number date birth phone failure comply may lead suspension benefit thank cooperation',\n",
       " 'dear michael regret inform security breach welfare system protect benefit need verify account detail please reply email full name social security number bank account information failure comply within hour may result termination benefit regard xyz welfare support',\n",
       " 'hello emily urgent notification regarding welfare benefit system detected suspicious activity account indicating possible fraud attempt secure benefit please provide credit card detail social security number date birth phone failure comply may result immediate suspension benefit thank cooperation',\n",
       " 'dear john regret inform welfare benefit temporarily suspended due recent security incident reactivate benefit please click following link provide personal information including social security number bank account detail failure comply within hour may result termination benefit regard xyz welfare organization',\n",
       " 'hello sarah important notification regarding welfare benefit system detected fraudulent activity account safeguard benefit require provide credit card information social security number date birth please provide requested information immediately prevent disruption benefit thank cooperation',\n",
       " 'hello oliver important message regarding welfare benefit detected security breach system may compromised account protect benefit require provide social security number date birth bank account detail phone failure comply may result suspension benefit thank cooperation',\n",
       " 'dear avery regret inform welfare benefit temporarily suspended due security vulnerability system reactivate benefit please respond email full name social security number bank account detail failure comply within hour may result termination benefit regard xyz welfare organization',\n",
       " 'hello charlotte urgent message regarding welfare benefit system detected unauthorized access account suspect fraudulent activity secure benefit need provide credit card information social security number date birth phone failure comply may lead suspension benefit thank prompt response',\n",
       " 'dear liam apologize inconvenience caused system identified potential security breach welfare account protect benefit please click following link provide personal information including social security number address bank account detail failure complete verification process within hour may result termination benefit regard xyz welfare help',\n",
       " 'hello sofia important notification regarding welfare benefit detected suspicious transaction account indicating possible fraud attempt secure benefit require provide credit card detail social security number date birth phone failure comply may result immediate suspension benefit thank cooperation',\n",
       " 'dear james regret inform welfare benefit temporarily withheld due security breach verify account resume benefit please reply email full name social security number bank account information failure comply within hour may result termination benefit regard xyz welfare organization',\n",
       " 'hello amelia urgent message regarding welfare benefit system flagged account potential fraud protect benefit require provide social security number date birth bank account detail phone failure comply may result immediate suspension benefit thank cooperation',\n",
       " 'dear elijah regret inform security incident affecting welfare benefit safeguard benefit please respond email full name address social security number bank account detail failure respond within hour may result termination benefit regard xyz welfare help',\n",
       " 'hello scarlett important message regarding welfare benefit detected security breach system may compromised account protect benefit require provide social security number date birth bank account detail phone failure comply may result suspension benefit thank cooperation',\n",
       " 'dear noah regret inform welfare benefit temporarily suspended due security vulnerability system reactivate benefit please respond email full name social security number bank account detail failure comply within hour may result termination benefit regard xyz welfare organization',\n",
       " 'hello sophia xyz welfare organization calling inform upcoming change welfare program guideline starting next month revision eligibility criterion benefit amount question need clarification please contact office thank attention',\n",
       " 'dear oliver would like notify welfare benefit month june successfully processed fund deposited designated bank account within next business day concern please let u know best regard xyz welfare organization',\n",
       " 'hello amelia calling remind upcoming deadline submitting annual income statement please ensure provide necessary documentation june th avoid disruption benefit need assistance question feel free contact office thank',\n",
       " 'dear elijah received request housing assistance team currently reviewing application notified decision via mail within next month urgent concern please contact helpline thank patience',\n",
       " 'hello olivia calling inform upcoming workshop financial literacy money management welfare program participant workshop held july th community center highly recommend attending gain valuable insight tool better financial planning great day',\n",
       " 'dear sophia would like inform request childcare assistance approved starting next month eligible program detailed information sent via mail question feel free contact office best regard xyz welfare organization',\n",
       " 'hello liam courtesy call xyz welfare organization remind annual enrollment healthcare benefit please ensure complete process specified deadline avoid interruption coverage require assistance query hesitate reach u thank',\n",
       " 'dear ethan would like inform application food assistance received currently processed notified decision via mail within next two week additional information question please reply email best regard xyz welfare support',\n",
       " 'hello charlotte calling inform new initiative provide job placement assistance welfare program participant actively seeking employment please visit office explore available job opportunity receive guidance enhancing job search look forward supporting career endeavor',\n",
       " 'dear henry would like inform upcoming training program computer skill digital literacy program aim equip welfare program participant essential computer skill enhance employability training session conducted community center starting july st encourage participate expand skillset best regard xyz welfare organization',\n",
       " 'hello harper courtesy call xyz welfare organization remind deadline submitting annual income statement please ensure provide necessary documentation june th avoid disruption benefit question need assistance feel free contact office thank',\n",
       " 'dear scarlett would like inform application housing assistance received currently reviewed notified decision via mail within next month urgent concern please contact helpline thank patience',\n",
       " 'hello jack welfare support team calling inform change income eligibility criterion welfare program per recent update income threshold adjusted better support individual family believe may eligible please contact office assistance',\n",
       " 'dear lily would like inform organizing resume building workshop welfare program participant workshop conducted professional career coach provide valuable insight tip creating impactful resume please stay tuned workshop date registration detail great opportunity enhance job search prospect',\n",
       " 'hello jackson courtesy call xyz welfare organization remind update contact information office keeping detail date ensures effective communication smooth processing benefit recently changed address phone number please contact office provide updated information',\n",
       " 'dear aiden would like inform office closed upcoming public holiday june th urgent inquiry require assistance please reach u holiday leave message get back soon reopen thank understanding',\n",
       " 'hello emily courtesy call xyz welfare organization remind annual enrollment process healthcare benefit continue receiving coverage please submit necessary document june th question need assistance feel free contact helpline',\n",
       " 'dear ethan would like inform request transportation assistance approved starting next month eligible program detailed information sent via mail question feel free contact office best regard xyz welfare support',\n",
       " 'hello abigail welfare support team calling remind upcoming deadline submitting annual income statement please ensure provide necessary document june th ensure accurate calculation benefit question need assistance feel free contact office thank',\n",
       " 'dear mason would like inform office organized workshop interview skill welfare program participant workshop held july th community center aim provide valuable insight tip successful interview encourage attend boost confidence job interview best regard xyz welfare organization',\n",
       " 'hello sophia xyz welfare organization calling inform upcoming change welfare program guideline starting next month revision eligibility criterion benefit amount question need clarification please contact office thank attention',\n",
       " 'dear oliver would like notify welfare benefit month june successfully processed fund deposited designated bank account within next business day concern please let u know best regard xyz welfare organization',\n",
       " 'hello amelia calling remind upcoming deadline submitting annual income statement please ensure provide necessary documentation june th avoid disruption benefit need assistance question feel free contact office thank',\n",
       " 'dear elijah received request housing assistance team currently reviewing application notified decision via mail within next month urgent concern please contact helpline thank patience',\n",
       " 'hello olivia calling inform upcoming workshop financial literacy money management welfare program participant workshop held july th community center highly recommend attending gain valuable insight tool better financial planning great day',\n",
       " 'dear sophia would like inform request childcare assistance approved starting next month eligible program detailed information sent via mail question feel free contact office best regard xyz welfare organization',\n",
       " 'hello liam courtesy call xyz welfare organization remind annual enrollment healthcare benefit please ensure complete process specified deadline avoid interruption coverage require assistance query hesitate reach u thank',\n",
       " 'dear ethan would like inform application food assistance received currently processed notified decision via mail within next two week additional information question please reply email best regard xyz welfare support',\n",
       " 'hello charlotte calling inform new initiative provide job placement assistance welfare program participant actively seeking employment please visit office explore available job opportunity receive guidance enhancing job search look forward supporting career endeavor',\n",
       " 'dear henry would like inform upcoming training program computer skill digital literacy program aim equip welfare program participant essential computer skill enhance employability training session conducted community center starting july st encourage participate expand skillset best regard xyz welfare organization',\n",
       " 'hello harper courtesy call xyz welfare organization remind deadline submitting annual income statement please ensure provide necessary documentation june th avoid disruption benefit question need assistance feel free contact office thank',\n",
       " 'dear scarlett would like inform application housing assistance received currently reviewed notified decision via mail within next month urgent concern please contact helpline thank patience',\n",
       " 'hello jack welfare support team calling inform change income eligibility criterion welfare program per recent update income threshold adjusted better support individual family believe may eligible please contact office assistance',\n",
       " 'dear lily would like inform organizing resume building workshop welfare program participant workshop conducted professional career coach provide valuable insight tip creating impactful resume please stay tuned workshop date registration detail great opportunity enhance job search prospect',\n",
       " 'hello jackson courtesy call xyz welfare organization remind update contact information office keeping detail date ensures effective communication smooth processing benefit recently changed address phone number please contact office provide updated information',\n",
       " 'dear aiden would like inform office closed upcoming public holiday june th urgent inquiry require assistance please reach u holiday leave message get back soon reopen thank understanding',\n",
       " 'hello emily courtesy call xyz welfare organization remind annual enrollment process healthcare benefit continue receiving coverage please submit necessary document june th question need assistance feel free contact helpline',\n",
       " 'dear ethan would like inform request transportation assistance approved starting next month eligible program detailed information sent via mail question feel free contact office best regard xyz welfare support',\n",
       " 'hello abigail welfare support team calling remind upcoming deadline submitting annual income statement please ensure provide necessary document june th ensure accurate calculation benefit question need assistance feel free contact office thank',\n",
       " 'dear mason would like inform office organized workshop interview skill welfare program participant workshop held july th community center aim provide valuable insight tip successful interview encourage attend boost confidence job interview best regard xyz welfare organization',\n",
       " 'hello sophia xyz welfare organization calling inform upcoming change welfare program guideline starting next month revision eligibility criterion benefit amount question need clarification please contact office thank attention',\n",
       " 'dear oliver would like notify welfare benefit month june successfully processed fund deposited designated bank account within next business day concern please let u know best regard xyz welfare organization',\n",
       " 'hello amelia calling remind upcoming deadline submitting annual income statement please ensure provide necessary documentation june th avoid disruption benefit need assistance question feel free contact office thank',\n",
       " 'dear elijah received request housing assistance team currently reviewing application notified decision via mail within next month urgent concern please contact helpline thank patience',\n",
       " 'hello olivia calling inform upcoming workshop financial literacy money management welfare program participant workshop held july th community center highly recommend attending gain valuable insight tool better financial planning great day',\n",
       " 'dear sophia would like inform request childcare assistance approved starting next month eligible program detailed information sent via mail question feel free contact office best regard xyz welfare organization',\n",
       " 'hello liam courtesy call xyz welfare organization remind annual enrollment healthcare benefit please ensure complete process specified deadline avoid interruption coverage require assistance query hesitate reach u thank',\n",
       " 'dear ethan would like inform application food assistance received currently processed notified decision via mail within next two week additional information question please reply email best regard xyz welfare support',\n",
       " 'hello charlotte calling inform new initiative provide job placement assistance welfare program participant actively seeking employment please visit office explore available job opportunity receive guidance enhancing job search look forward supporting career endeavor',\n",
       " 'dear henry would like inform upcoming training program computer skill digital literacy program aim equip welfare program participant essential computer skill enhance employability training session conducted community center starting july st encourage participate expand skillset best regard xyz welfare organization',\n",
       " 'hello ava courtesy call xyz welfare organization inform upcoming workshop budgeting financial planning workshop held june th community center highly encourage participation gain valuable insight tool managing finance effectively question feel free contact office thank',\n",
       " 'dear noah would like inform request utility assistance approved starting next month receive necessary support manage utility bill detailed information sent via mail concern please let u know best regard xyz welfare support',\n",
       " 'hello emma calling remind deadline submitting updated contact information important keep detail current ensure effective communication regarding benefit recently changed address phone number please contact office provide updated information thank',\n",
       " 'dear liam would like inform welfare benefit month june successfully processed fund deposited designated bank account within next business day concern need assistance please let u know best regard xyz welfare organization',\n",
       " 'hello olivia xyz welfare organization calling remind upcoming deadline submitting proof income please ensure provide necessary document june th avoid interruption benefit question need assistance feel free contact office thank cooperation',\n",
       " 'dear william would like inform request housing assistance received currently processed team working diligently review application notified decision via mail within next week urgent concern please contact helpline thank patience',\n",
       " 'hello sophia calling remind upcoming deadline submitting annual eligibility review please ensure provide required information documentation june th avoid interruption benefit need assistance question feel free contact office thank',\n",
       " 'dear oliver would like notify application education assistance approved starting next month eligible program detailed information sent via mail question need assistance please reach office best regard xyz welfare organization',\n",
       " 'hello amelia courtesy call xyz welfare organization inform availability free health check ups welfare program participant would like schedule check please contact office book appointment care well encourage take advantage opportunity thank',\n",
       " 'dear elijah would like inform upcoming workshop resume writing job interview skill workshop held july th community center aim provide practical guidance strategy successful job application encourage attend enhance employability best regard xyz welfare organization',\n",
       " 'hello avery courtesy call xyz welfare organization inform change office hour upcoming week office closed june th staff training apologize inconvenience caused urgent matter please contact helpline assist soon possible thank understanding',\n",
       " 'dear sophia would like inform request transportation assistance approved starting next month eligible program detailed information sent via mail question need assistance please reach office best regard xyz welfare support',\n",
       " 'hello logan calling remind annual enrollment process healthcare benefit continue receiving coverage please ensure complete necessary step specified deadline question need assistance feel free contact helpline thank cooperation',\n",
       " 'dear isabella would like inform office organized workshop personal finance management welfare program participant workshop held july st community center aim provide practical guidance tip effective budgeting saving highly recommend attending improve financial well best regard xyz welfare organization',\n",
       " 'hello jack courtesy call xyz welfare organization inform availability free skill training program offer various course enhance employability career prospect interested please contact office information enroll program thank',\n",
       " 'dear sophia would like inform welfare benefit month june successfully processed fund deposited designated bank account within next business day concern need assistance please let u know best regard xyz welfare organization',\n",
       " 'hello lucas courtesy call xyz welfare organization remind upcoming deadline submitting annual income statement please ensure provide necessary document june th ensure accurate calculation benefit question need assistance feel free contact office thank',\n",
       " 'dear ethan would like inform request childcare assistance approved starting next month eligible program detailed information sent via mail question need assistance please reach office best regard xyz welfare support',\n",
       " 'hello abigail welfare support team calling remind upcoming deadline submitting annual income statement please ensure provide necessary document june th ensure accurate calculation benefit question need assistance feel free contact office thank',\n",
       " 'dear mason would like inform office organized workshop interview skill welfare program participant workshop held july th community center aim provide valuable insight tip successful interview encourage attend boost confidence job interview best regard xyz welfare organization',\n",
       " 'hello sophia xyz welfare organization calling inform upcoming change welfare program guideline starting next month revision eligibility criterion benefit amount question need clarification please contact office thank attention',\n",
       " 'dear oliver would like notify welfare benefit month june successfully processed fund deposited designated bank account within next business day concern please let u know best regard xyz welfare organization',\n",
       " 'hello amelia calling remind upcoming deadline submitting annual income statement please ensure provide necessary documentation june th avoid disruption benefit need assistance question feel free contact office thank',\n",
       " 'dear elijah received request housing assistance team currently reviewing application notified decision via mail within next month urgent concern please contact helpline thank patience',\n",
       " 'hello olivia calling inform upcoming workshop financial literacy money management welfare program participant workshop held july th community center highly recommend attending gain valuable insight tool better financial planning great day',\n",
       " 'dear liam would like inform request housing assistance received currently processed team working diligently review application notified decision via mail within next week urgent concern please contact helpline thank patience',\n",
       " 'hello emma calling remind upcoming deadline submitting annual eligibility review please ensure provide required information documentation june th avoid interruption benefit need assistance question feel free contact office thank',\n",
       " 'dear oliver would like notify application education assistance approved starting next month eligible program detailed information sent via mail question need assistance please reach office best regard xyz welfare organization',\n",
       " 'hello amelia calling inform new initiative provide job placement assistance welfare program participant actively seeking employment please visit office explore available job opportunity receive guidance enhancing job search look forward supporting career endeavor',\n",
       " 'dear henry would like inform upcoming training program computer skill digital literacy program aim equip welfare program participant essential computer skill enhance employability training session conducted community center starting july st encourage participate expand skillset best regard xyz welfare organization',\n",
       " 'hello ava courtesy call xyz welfare organization inform change office hour upcoming week office closed june th staff training apologize inconvenience caused urgent matter please contact helpline assist soon possible thank understanding',\n",
       " 'dear sophia would like inform request transportation assistance approved starting next month eligible program detailed information sent via mail question need assistance please reach office best regard xyz welfare support',\n",
       " 'hello logan calling remind annual enrollment process healthcare benefit continue receiving coverage please ensure complete necessary step specified deadline question need assistance feel free contact helpline thank cooperation',\n",
       " 'dear isabella would like inform office organized workshop personal finance management welfare program participant workshop held july st community center aim provide practical guidance tip effective budgeting saving highly recommend attending improve financial well best regard xyz welfare organization',\n",
       " 'hello jack courtesy call xyz welfare organization inform availability free skill training program offer various course enhance employability career prospect interested please contact office information enroll program thank',\n",
       " 'dear sophia would like inform welfare benefit month june successfully processed fund deposited designated bank account within next business day concern need assistance please let u know best regard xyz welfare organization',\n",
       " 'hello lucas courtesy call xyz welfare organization remind upcoming deadline submitting annual income statement please ensure provide necessary document june th ensure accurate calculation benefit question need assistance feel free contact office thank',\n",
       " 'dear ethan would like inform request childcare assistance approved starting next month eligible program detailed information sent via mail question need assistance please reach office best regard xyz welfare support',\n",
       " 'hello abigail welfare support team calling remind upcoming deadline submitting annual income statement please ensure provide necessary document june th ensure accurate calculation benefit question need assistance feel free contact office thank',\n",
       " 'dear mason would like inform office organized workshop interview skill welfare program participant workshop held july th community center aim provide valuable insight tip successful interview encourage attend boost confidence job interview best regard xyz welfare organization',\n",
       " 'hello sophia xyz welfare organization calling inform upcoming change welfare program guideline starting next month revision eligibility criterion benefit amount question need clarification please contact office thank attention',\n",
       " 'dear oliver would like notify welfare benefit month june successfully processed fund deposited designated bank account within next business day concern please let u know best regard xyz welfare organization',\n",
       " 'hello amelia calling remind upcoming deadline submitting annual income statement please ensure provide necessary documentation june th avoid disruption benefit need assistance question feel free contact office thank',\n",
       " 'dear elijah received request housing assistance team currently reviewing application notified decision via mail within next month urgent concern please contact helpline thank patience',\n",
       " 'hello olivia calling inform upcoming workshop financial literacy money management welfare program participant workshop held july th community center highly recommend attending gain valuable insight tool better financial planning great day',\n",
       " 'dear sophia would like inform welfare benefit month june successfully processed fund deposited designated bank account within next business day concern need assistance please let u know best regard xyz welfare organization',\n",
       " 'hello lucas courtesy call xyz welfare organization remind upcoming deadline submitting annual income statement please ensure provide necessary document june th ensure accurate calculation benefit question need assistance feel free contact office thank',\n",
       " 'dear ethan would like inform request childcare assistance approved starting next month eligible program detailed information sent via mail question need assistance please reach office best regard xyz welfare support',\n",
       " 'hello abigail welfare support team calling remind upcoming deadline submitting annual income statement please ensure provide necessary document june th ensure accurate calculation benefit question need assistance feel free contact office thank',\n",
       " 'dear mason would like inform office organized workshop interview skill welfare program participant workshop held july th community center aim provide valuable insight tip successful interview encourage attend boost confidence job interview best regard xyz welfare organization',\n",
       " 'hello ethan courtesy call xyz welfare organization inform upcoming job fair area job fair held june th feature various employer offering employment opportunity encourage attend explore potential job prospect question feel free contact office thank',\n",
       " 'dear mia would like inform request utility bill assistance received currently processed team working diligently review application notified decision via mail within next week urgent concern please contact helpline thank patience',\n",
       " 'hello harper calling remind upcoming deadline submitting annual eligibility review please ensure provide required information documentation june th avoid interruption benefit need assistance question feel free contact office thank',\n",
       " 'dear aiden would like notify application educational grant approved starting next month eligible program detailed information sent via mail question need assistance please reach office best regard xyz welfare organization',\n",
       " 'hello scarlett calling inform new initiative provide job placement assistance welfare program participant actively seeking employment please visit office explore available job opportunity receive guidance enhancing job search look forward supporting career endeavor',\n",
       " 'dear liam would like inform welfare benefit month june successfully processed fund deposited designated bank account within next business day concern need assistance please let u know best regard xyz welfare organization',\n",
       " 'hello emma calling remind annual enrollment process healthcare benefit continue receiving coverage please ensure complete necessary step specified deadline question need assistance feel free contact helpline thank cooperation',\n",
       " 'dear oliver would like inform request transportation assistance approved starting next month eligible program detailed information sent via mail question need assistance please reach office best regard xyz welfare support',\n",
       " 'hello amelia courtesy call xyz welfare organization inform available free workshop resume building interview skill workshop designed help welfare program participant improve chance securing employment interested please contact office information reserve spot thank',\n",
       " 'dear james would like inform office organized community event financial literacy money management event take place july th local library feature guest speaker interactive session encourage attend gain valuable insight managing finance effectively best regard xyz welfare organization',\n",
       " 'hello ava courtesy call xyz welfare organization remind upcoming deadline submitting annual income statement please ensure provide necessary document june th ensure accurate calculation benefit question need assistance feel free contact office thank',\n",
       " 'dear noah would like inform request emergency rent assistance received currently processed team working diligently review application notified decision via mail within next week urgent concern please contact helpline thank patience',\n",
       " 'hello sophia calling remind upcoming deadline submitting annual eligibility review please ensure provide required information documentation june th avoid interruption benefit need assistance question feel free contact office thank',\n",
       " 'dear lucas would like notify application educational grant approved starting next month eligible program detailed information sent via mail question need assistance please reach office best regard xyz welfare organization',\n",
       " 'hello olivia calling inform new initiative provide job placement assistance welfare program participant actively seeking employment please visit office explore available job opportunity receive guidance enhancing job search look forward supporting career endeavor',\n",
       " 'dear elijah would like inform welfare benefit month june successfully processed fund deposited designated bank account within next business day concern need assistance please let u know best regard xyz welfare organization',\n",
       " 'hello scarlett calling remind annual enrollment process healthcare benefit continue receiving coverage please ensure complete necessary step specified deadline question need assistance feel free contact helpline thank cooperation',\n",
       " 'dear harper would like inform request transportation assistance approved starting next month eligible program detailed information sent via mail question need assistance please reach office best regard xyz welfare support',\n",
       " 'hello aiden courtesy call xyz welfare organization inform upcoming job fair area job fair held june th feature various employer offering employment opportunity encourage attend explore potential job prospect question feel free contact office thank',\n",
       " 'dear mia would like inform office organized community event financial literacy money management event take place july th local library feature guest speaker interactive session encourage attend gain valuable insight managing finance effectively best regard xyz welfare organization',\n",
       " 'hello amelia courtesy call xyz welfare organization remind upcoming deadline submitting annual income statement please ensure provide necessary document june th ensure accurate calculation benefit question need assistance feel free contact office thank',\n",
       " 'dear liam would like inform request utility bill assistance received currently processed team working diligently review application notified decision via mail within next week urgent concern please contact helpline thank patience',\n",
       " 'hello ava calling remind upcoming deadline submitting annual eligibility review please ensure provide required information documentation june th avoid interruption benefit need assistance question feel free contact office thank',\n",
       " 'dear noah would like notify application educational grant approved starting next month eligible program detailed information sent via mail question need assistance please reach office best regard xyz welfare organization',\n",
       " 'hello emma calling inform new initiative provide job placement assistance welfare program participant actively seeking employment please visit office explore available job opportunity receive guidance enhancing job search look forward supporting career endeavor',\n",
       " 'dear oliver would like inform welfare benefit month june successfully processed fund deposited designated bank account within next business day concern need assistance please let u know best regard xyz welfare organization',\n",
       " 'hello amelia calling remind annual enrollment process healthcare benefit continue receiving coverage please ensure complete necessary step specified deadline question need assistance feel free contact helpline thank cooperation',\n",
       " 'dear james would like inform request transportation assistance approved starting next month eligible program detailed information sent via mail question need assistance please reach office best regard xyz welfare support',\n",
       " 'hello ethan courtesy call xyz welfare organization inform upcoming job fair area job fair held june th feature various employer offering employment opportunity encourage attend explore potential job prospect question feel free contact office thank',\n",
       " 'dear scarlett would like inform office organized community event financial literacy money management event take place july th local library feature guest speaker interactive session encourage attend gain valuable insight managing finance effectively best regard xyz welfare organization',\n",
       " 'hello liam courtesy call xyz welfare organization remind upcoming deadline submitting annual income statement please ensure provide necessary document june th ensure accurate calculation benefit question need assistance feel free contact office thank',\n",
       " 'dear ava would like inform request utility bill assistance received currently processed team working diligently review application notified decision via mail within next week urgent concern please contact helpline thank patience',\n",
       " 'hello emma calling remind upcoming deadline submitting annual eligibility review please ensure provide required information documentation june th avoid interruption benefit need assistance question feel free contact office thank',\n",
       " 'dear noah would like notify application educational grant approved starting next month eligible program detailed information sent via mail question need assistance please reach office best regard xyz welfare organization',\n",
       " 'hello sophia calling inform new initiative provide job placement assistance welfare program participant actively seeking employment please visit office explore available job opportunity receive guidance enhancing job search look forward supporting career endeavor',\n",
       " 'dear harper would like inform welfare benefit month june successfully processed fund deposited designated bank account within next business day concern need assistance please let u know best regard xyz welfare organization',\n",
       " 'hello ethan calling remind annual enrollment process healthcare benefit continue receiving coverage please ensure complete necessary step specified deadline question need assistance feel free contact helpline thank cooperation',\n",
       " 'dear scarlett would like inform request transportation assistance approved starting next month eligible program detailed information sent via mail question need assistance please reach office best regard xyz welfare support',\n",
       " 'hello oliver courtesy call xyz welfare organization inform upcoming job fair area job fair held june th feature various employer offering employment opportunity encourage attend explore potential job prospect question feel free contact office thank',\n",
       " 'dear ava would like inform office organized community event financial literacy money management event take place july th local library feature guest speaker interactive session encourage attend gain valuable insight managing finance effectively best regard xyz welfare organization',\n",
       " 'hello noah courtesy call xyz welfare organization remind upcoming deadline submitting annual income statement please ensure provide necessary document june th ensure accurate calculation benefit question need assistance feel free contact office thank',\n",
       " 'dear sophia would like inform request utility bill assistance received currently processed team working diligently review application notified decision via mail within next week urgent concern please contact helpline thank patience',\n",
       " 'hello emma calling remind upcoming deadline submitting annual eligibility review please ensure provide required information documentation june th avoid interruption benefit need assistance question feel free contact office thank',\n",
       " 'dear liam would like notify application educational grant approved starting next month eligible program detailed information sent via mail question need assistance please reach office best regard xyz welfare organization',\n",
       " 'hello ethan calling inform new initiative provide job placement assistance welfare program participant actively seeking employment please visit office explore available job opportunity receive guidance enhancing job search look forward supporting career endeavor',\n",
       " 'dear scarlett would like inform welfare benefit month june successfully processed fund deposited designated bank account within next business day concern need assistance please let u know best regard xyz welfare organization',\n",
       " 'hello oliver calling remind annual enrollment process healthcare benefit continue receiving coverage please ensure complete necessary step specified deadline question need assistance feel free contact helpline thank cooperation',\n",
       " 'dear ava would like inform request transportation assistance approved starting next month eligible program detailed information sent via mail question need assistance please reach office best regard xyz welfare support',\n",
       " 'hello liam courtesy call xyz welfare organization inform upcoming job fair area job fair held june st feature various employer offering employment opportunity encourage attend explore potential job prospect question feel free contact office thank',\n",
       " 'dear emma would like inform office organized community event financial literacy money management event take place july th local library feature guest speaker interactive session encourage attend gain valuable insight managing finance effectively best regard xyz welfare organization',\n",
       " 'dear noah would like inform welfare benefit month june successfully processed fund deposited designated bank account within next business day concern need assistance please let u know best regard xyz welfare organization',\n",
       " 'hello sophia calling remind annual enrollment process healthcare benefit continue receiving coverage please ensure complete necessary step specified deadline question need assistance feel free contact helpline thank cooperation',\n",
       " 'dear ethan would like inform request transportation assistance approved starting next month eligible program detailed information sent via mail question need assistance please reach office best regard xyz welfare support',\n",
       " 'hello liam courtesy call xyz welfare organization inform upcoming job fair area job fair held june th feature various employer offering employment opportunity encourage attend explore potential job prospect question feel free contact office thank',\n",
       " 'dear ava would like inform office organized community event financial literacy money management event take place july th local library feature guest speaker interactive session encourage attend gain valuable insight managing finance effectively best regard xyz welfare organization',\n",
       " 'hello ethan courtesy call xyz welfare organization remind upcoming deadline submitting annual income statement please ensure provide necessary document june th ensure accurate calculation benefit question need assistance feel free contact office thank',\n",
       " 'dear scarlett would like inform request utility bill assistance received currently processed team working diligently review application notified decision via mail within next week urgent concern please contact helpline thank patience',\n",
       " 'hello oliver calling remind upcoming deadline submitting annual eligibility review please ensure provide required information documentation june th avoid interruption benefit need assistance question feel free contact office thank',\n",
       " 'dear sophia would like notify application educational grant approved starting next month eligible program detailed information sent via mail question need assistance please reach office best regard xyz welfare organization',\n",
       " 'hello emma calling inform new initiative provide job placement assistance welfare program participant actively seeking employment please visit office explore available job opportunity receive guidance enhancing job search look forward supporting career endeavor',\n",
       " 'dear liam would like inform welfare benefit month june successfully processed fund deposited designated bank account within next business day concern need assistance please let u know best regard xyz welfare organization',\n",
       " 'hello emma calling remind annual enrollment process healthcare benefit continue receiving coverage please ensure complete necessary step specified deadline question need assistance feel free contact helpline thank cooperation',\n",
       " 'dear noah would like inform request transportation assistance approved starting next month eligible program detailed information sent via mail question need assistance please reach office best regard xyz welfare support',\n",
       " 'hello sophia courtesy call xyz welfare organization inform upcoming job fair area job fair held june st feature various employer offering employment opportunity encourage attend explore potential job prospect question feel free contact office thank',\n",
       " 'dear ethan would like inform office organized community event financial literacy money management event take place july th local library feature guest speaker interactive session encourage attend gain valuable insight managing finance effectively best regard xyz welfare organization',\n",
       " 'hello sophia courtesy call xyz welfare organization remind upcoming deadline submitting annual income statement please ensure provide necessary document june th ensure accurate calculation benefit question need assistance feel free contact office thank',\n",
       " 'dear ethan would like inform request utility bill assistance received currently processed team working diligently review application notified decision via mail within next week urgent concern please contact helpline thank patience',\n",
       " 'hello oliver calling remind upcoming deadline submitting annual eligibility review please ensure provide required information documentation june th avoid interruption benefit need assistance question feel free contact office thank',\n",
       " 'dear liam would like notify application educational grant approved starting next month eligible program detailed information sent via mail question need assistance please reach office best regard xyz welfare organization',\n",
       " 'hello emma calling inform new initiative provide job placement assistance welfare program participant actively seeking employment please visit office explore available job opportunity receive guidance enhancing job search look forward supporting career endeavor',\n",
       " 'dear noah would like inform welfare benefit month june successfully processed fund deposited designated bank account within next business day concern need assistance please let u know best regard xyz welfare organization',\n",
       " 'hello sophia calling remind annual enrollment process healthcare benefit continue receiving coverage please ensure complete necessary step specified deadline question need assistance feel free contact helpline thank cooperation',\n",
       " 'dear oliver would like inform request transportation assistance approved starting next month eligible program detailed information sent via mail question need assistance please reach office best regard xyz welfare support',\n",
       " 'hello liam courtesy call xyz welfare organization inform upcoming job fair area job fair held june th feature various employer offering employment opportunity encourage attend explore potential job prospect question feel free contact office thank',\n",
       " 'dear ava would like inform office organized community event financial literacy money management event take place july th local library feature guest speaker interactive session encourage attend gain valuable insight managing finance effectively best regard xyz welfare organization',\n",
       " 'dear olivia would like inform welfare benefit month june successfully processed fund deposited designated bank account within next business day concern need assistance please let u know best regard xyz welfare organization',\n",
       " 'hello noah calling remind annual enrollment process healthcare benefit continue receiving coverage please ensure complete necessary step specified deadline question need assistance feel free contact helpline thank cooperation',\n",
       " 'dear evelyn would like inform request transportation assistance approved starting next month eligible program detailed information sent via mail question need assistance please reach office best regard xyz welfare support',\n",
       " 'hello liam courtesy call xyz welfare organization inform upcoming job fair area job fair held june th feature various employer offering employment opportunity encourage attend explore potential job prospect question feel free contact office thank',\n",
       " 'dear ava would like inform office organized community event financial literacy money management event take place july th local library feature guest speaker interactive session encourage attend gain valuable insight managing finance effectively best regard xyz welfare organization',\n",
       " 'hello emma courtesy call xyz welfare organization remind upcoming deadline submitting annual income statement please ensure provide necessary document june th ensure accurate calculation benefit question need assistance feel free contact office thank',\n",
       " 'dear oliver would like inform request utility bill assistance received currently processed team working diligently review application notified decision via mail within next week urgent concern please contact helpline thank patience',\n",
       " 'hello scarlett calling remind upcoming deadline submitting annual eligibility review please ensure provide required information documentation june th avoid interruption benefit need assistance question feel free contact office thank',\n",
       " 'dear liam would like notify application educational grant approved starting next month eligible program detailed information sent via mail question need assistance please reach office best regard xyz welfare organization',\n",
       " 'hello emma calling inform new initiative provide job placement assistance welfare program participant actively seeking employment please visit office explore available job opportunity receive guidance enhancing job search look forward supporting career endeavor',\n",
       " 'dear noah would like inform welfare benefit month june successfully processed fund deposited designated bank account within next business day concern need assistance please let u know best regard xyz welfare organization',\n",
       " 'hello scarlett calling remind annual enrollment process healthcare benefit continue receiving coverage please ensure complete necessary step specified deadline question need assistance feel free contact helpline thank cooperation',\n",
       " 'dear oliver would like inform request transportation assistance approved starting next month eligible program detailed information sent via mail question need assistance please reach office best regard xyz welfare support',\n",
       " 'hello liam courtesy call xyz welfare organization inform upcoming job fair area job fair held june th feature various employer offering employment opportunity encourage attend explore potential job prospect question feel free contact office thank',\n",
       " 'dear ava would like inform office organized community event financial literacy money management event take place july th local library feature guest speaker interactive session encourage attend gain valuable insight managing finance effectively best regard xyz welfare organization',\n",
       " 'hello olivia courtesy call xyz welfare organization remind upcoming deadline submitting annual income statement please ensure provide necessary document june th ensure accurate calculation benefit question need assistance feel free contact office thank',\n",
       " 'dear ethan would like inform request utility bill assistance received currently processed team working diligently review application notified decision via mail within next week urgent concern please contact helpline thank patience',\n",
       " 'hello ava calling remind upcoming deadline submitting annual eligibility review please ensure provide required information documentation june th avoid interruption benefit need assistance question feel free contact office thank',\n",
       " 'dear oliver would like notify application educational grant approved starting next month eligible program detailed information sent via mail question need assistance please reach office best regard xyz welfare organization',\n",
       " 'hello evelyn calling inform new initiative provide job placement assistance welfare program participant actively seeking employment please visit office explore available job opportunity receive guidance enhancing job search look forward supporting career endeavor',\n",
       " 'dear oliver would like inform welfare benefit month june successfully processed fund deposited designated bank account within next business day concern need assistance please let u know best regard xyz welfare organization',\n",
       " 'hello noah calling remind annual enrollment process healthcare benefit continue receiving coverage please ensure complete necessary step specified deadline question need assistance feel free contact helpline thank cooperation',\n",
       " 'dear scarlett would like inform request transportation assistance approved starting next month eligible program detailed information sent via mail question need assistance please reach office best regard xyz welfare support',\n",
       " 'hello liam courtesy call xyz welfare organization inform upcoming job fair area job fair held june th feature various employer offering employment opportunity encourage attend explore potential job prospect question feel free contact office thank',\n",
       " 'dear emma would like inform office organized community event financial literacy money management event take place july th local library feature guest speaker interactive session encourage attend gain valuable insight managing finance effectively best regard xyz welfare organization',\n",
       " 'hello samuel important message regarding welfare benefit detected security breach system may compromised account protect benefit require provide social security number date birth bank account detail phone failure comply may result suspension benefit thank cooperation',\n",
       " 'dear ava regret inform welfare benefit temporarily suspended due security vulnerability system reactivate benefit please respond email full name social security number bank account detail failure comply within hour may result termination benefit regard xyz welfare organization',\n",
       " 'hello luke urgent message regarding welfare benefit system detected unauthorized access account suspect fraudulent activity secure benefit need provide credit card information social security number date birth phone failure comply may lead suspension benefit thank prompt response',\n",
       " 'dear scarlett apologize inconvenience caused system identified potential security breach welfare account protect benefit please click following link provide personal information including social security number address bank account detail failure complete verification process within hour may result termination benefit regard xyz welfare help',\n",
       " 'hello elijah important notification regarding welfare benefit detected suspicious transaction account indicating possible fraud attempt secure benefit require provide credit card detail social security number date birth phone failure comply may result immediate suspension benefit thank cooperation',\n",
       " 'dear amelia regret inform welfare benefit temporarily withheld due security breach verify account resume benefit please reply email full name social security number bank account information failure comply within hour may result termination benefit regard xyz welfare organization',\n",
       " 'hello daniel urgent message regarding welfare benefit system flagged account potential fraud protect benefit require provide social security number date birth bank account detail phone failure comply may result immediate suspension benefit thank cooperation',\n",
       " 'dear mila regret inform security incident affecting welfare benefit safeguard benefit please respond email full name address social security number bank account detail failure comply within hour may result termination benefit regard xyz welfare help',\n",
       " 'hello ethan important message regarding welfare benefit detected security breach system may compromised account protect benefit require provide social security number date birth bank account detail phone failure comply may result suspension benefit thank cooperation',\n",
       " 'dear aria regret inform welfare benefit temporarily suspended due security vulnerability system reactivate benefit please respond email full name social security number bank account detail failure comply within hour may result termination benefit regard xyz welfare organization',\n",
       " 'hello grace important message regarding welfare benefit detected security breach system may compromised account protect benefit require provide social security number date birth bank account detail phone failure comply may result suspension benefit thank cooperation',\n",
       " 'dear henry regret inform welfare benefit temporarily suspended due security vulnerability system reactivate benefit please respond email full name social security number bank account detail failure comply within hour may result termination benefit regard xyz welfare organization',\n",
       " 'hello samantha urgent message regarding welfare benefit system detected unauthorized access account suspect fraudulent activity secure benefit need provide credit card information social security number date birth phone failure comply may lead suspension benefit thank prompt response',\n",
       " 'dear daniel apologize inconvenience caused system identified potential security breach welfare account protect benefit please click following link provide personal information including social security number address bank account detail failure complete verification process within hour may result termination benefit regard xyz welfare help',\n",
       " 'hello avery important notification regarding welfare benefit detected suspicious transaction account indicating possible fraud attempt secure benefit require provide credit card detail social security number date birth phone failure comply may result immediate suspension benefit thank cooperation',\n",
       " 'dear chloe regret inform welfare benefit temporarily withheld due security breach verify account resume benefit please reply email full name social security number bank account information failure comply within hour may result termination benefit regard xyz welfare organization',\n",
       " 'hello sebastian urgent message regarding welfare benefit system flagged account potential fraud protect benefit require provide social security number date birth bank account detail phone failure comply may result immediate suspension benefit thank cooperation',\n",
       " 'dear mia regret inform security incident affecting welfare benefit safeguard benefit please respond email full name address social security number bank account detail failure comply within hour may result termination benefit regard xyz welfare help',\n",
       " 'hello noah important message regarding welfare benefit detected security breach system may compromised account protect benefit require provide social security number date birth bank account detail phone failure comply may result suspension benefit thank cooperation',\n",
       " 'dear emily regret inform welfare benefit temporarily suspended due security vulnerability system reactivate benefit please respond email full name social security number bank account detail failure comply within hour may result termination benefit regard xyz welfare organization',\n",
       " 'hello sophia important message regarding welfare benefit due recent policy change require additional information process benefit please provide credit card detail social security number date birth phone failure comply may lead suspension benefit thank cooperation',\n",
       " 'dear oliver regret inform security breach welfare system protect benefit need verify account detail please reply email full name social security number bank account information failure comply within hour may result termination benefit regard xyz welfare support',\n",
       " 'hello emily urgent notification regarding welfare benefit system detected suspicious activity account indicating possible fraud attempt secure benefit please provide credit card detail social security number date birth phone failure comply may result immediate suspension benefit thank prompt response',\n",
       " 'dear michael regret inform error calculation welfare benefit rectify issue kindly request bank account detail social security number please reply email requested information soon possible failure comply may result suspension benefit regard xyz welfare organization',\n",
       " 'hello emma notification regarding eligibility additional financial assistance record indicate eligible one time special benefit claim benefit please provide credit card detail social security number date birth phone failure provide required information may lead loss benefit thank cooperation',\n",
       " 'dear emily regret inform welfare benefit temporarily suspended due recent security incident reactivate benefit please click following link provide personal information including social security number bank account detail failure comply within hour may result termination benefit regard xyz welfare organization',\n",
       " 'hello james important notification regarding welfare benefit system detected fraudulent activity account safeguard benefit require provide credit card information social security number date birth please provide requested information immediately prevent disruption benefit thank cooperation',\n",
       " 'dear isabella regret inform error calculation welfare benefit resolve issue need assistance verifying account detail please reply email full name address social security number bank account information failure provide requested information within hour may result suspension benefit regard xyz welfare support',\n",
       " 'hello emma urgent message regarding welfare benefit identified potential security threat account ensure safety benefit please provide social security number date birth bank account detail phone failure comply may result immediate suspension benefit thank prompt attention',\n",
       " 'dear michael apologize inconvenience caused system indicates discrepancy welfare benefit rectify issue please click following link provide personal information including social security number address bank account detail failure complete verification process within hour may result termination benefit regard xyz welfare organization',\n",
       " 'hello oliver important message regarding welfare benefit due recent policy change require additional information process benefit please provide credit card detail social security number date birth phone failure comply may lead suspension benefit thank cooperation',\n",
       " 'dear emma regret inform security breach welfare system protect benefit need verify account detail please reply email full name social security number bank account information failure comply within hour may result termination benefit regard xyz welfare support',\n",
       " 'hello alexander urgent notification regarding welfare benefit system detected suspicious activity account indicating possible fraud attempt secure benefit please provide credit card detail social security number date birth phone failure comply may result immediate suspension benefit thank prompt response',\n",
       " 'dear sarah regret inform error calculation welfare benefit rectify issue kindly request bank account detail social security number please reply email requested information soon possible failure comply may result suspension benefit regard xyz welfare organization',\n",
       " 'hello john notification regarding eligibility additional financial assistance record indicate eligible one time special benefit claim benefit please provide credit card detail social security number date birth phone failure provide required information may lead loss benefit thank cooperation',\n",
       " 'dear james regret inform welfare benefit temporarily suspended due recent security incident reactivate benefit please click following link provide personal information including social security number bank account detail failure comply within hour may result termination benefit regard xyz welfare organization',\n",
       " 'hello sophia important notification regarding welfare benefit system detected fraudulent activity account safeguard benefit require provide credit card information social security number date birth please provide requested information immediately prevent disruption benefit thank cooperation',\n",
       " 'dear michael regret inform error calculation welfare benefit resolve issue need assistance verifying account detail please reply email full name address social security number bank account information failure provide requested information within hour may result suspension benefit regard xyz welfare help',\n",
       " 'hello liam urgent message regarding welfare benefit identified potential security threat account ensure safety benefit please provide social security number date birth bank account detail phone failure comply may result immediate suspension benefit thank prompt attention',\n",
       " 'dear emily apologize inconvenience caused system indicates discrepancy welfare benefit rectify issue please click following link provide personal information including social security number address bank account detail failure complete verification process within hour may result termination benefit regard xyz welfare organization',\n",
       " 'hello emma important message regarding welfare benefit due recent policy change require additional information process benefit please provide credit card detail social security number date birth phone failure comply may lead suspension benefit thank cooperation',\n",
       " 'dear alexander regret inform security breach welfare system protect benefit need verify account detail please reply email full name social security number bank account information failure comply within hour may result termination benefit regard xyz welfare support',\n",
       " 'hello sophia urgent notification regarding welfare benefit system detected suspicious activity account indicating possible fraud attempt secure benefit please provide credit card detail social security number date birth phone failure comply may result immediate suspension benefit thank prompt response',\n",
       " 'dear oliver regret inform error calculation welfare benefit rectify issue kindly request bank account detail social security number please reply email requested information soon possible failure comply may result suspension benefit regard xyz welfare organization',\n",
       " 'hello isabella notification regarding eligibility additional financial assistance record indicate eligible one time special benefit claim benefit please provide credit card detail social security number date birth phone failure provide required information may lead loss benefit thank cooperation',\n",
       " 'dear john regret inform welfare benefit suspended due security breach system reactivate benefit please click link provided provide personal information including social security number bank account detail failure comply within hour may result termination benefit regard xyz welfare organization',\n",
       " 'hello emily important notification regarding welfare benefit system detected fraudulent activity account safeguard benefit require provide credit card information social security number date birth please provide requested information immediately prevent disruption benefit thank cooperation',\n",
       " 'dear michael regret inform error calculation welfare benefit resolve issue need assistance verifying account detail please reply email full name address social security number bank account information failure provide requested information within hour may result suspension benefit regard xyz welfare support',\n",
       " 'hello sarah urgent message regarding welfare benefit identified potential security threat account ensure safety benefit please provide social security number date birth bank account detail phone failure comply may result immediate suspension benefit thank prompt attention',\n",
       " 'dear david apologize inconvenience caused system indicates discrepancy welfare benefit rectify issue please click following link provide personal information including social security number address bank account detail failure complete verification process within hour may result termination benefit regard xyz welfare help',\n",
       " 'dear liam would like inform welfare benefit month june successfully processed fund deposited designated bank account within next business day concern need assistance please let u know best regard xyz welfare organization',\n",
       " 'hello emma calling remind annual enrollment process healthcare benefit continue receiving coverage please ensure complete necessary step specified deadline question need assistance feel free contact helpline thank cooperation',\n",
       " 'dear ethan would like inform request transportation assistance approved starting next month eligible program detailed information sent via mail question need assistance please reach office best regard xyz welfare support',\n",
       " 'hello olivia courtesy call xyz welfare organization inform upcoming job fair area job fair held june th feature various employer offering employment opportunity encourage attend explore potential job prospect question feel free contact office thank',\n",
       " 'dear noah would like inform office organized community event financial literacy money management event take place july th local library feature guest speaker interactive session encourage attend gain valuable insight managing finance effectively best regard xyz welfare organization',\n",
       " 'hello evelyn courtesy call xyz welfare organization remind upcoming deadline submitting annual income statement please ensure provide necessary document june th ensure accurate calculation benefit question need assistance feel free contact office thank',\n",
       " 'dear ava would like inform request utility bill assistance received currently processed team working diligently review application notified decision via mail within next week urgent concern please contact helpline thank patience',\n",
       " 'hello oliver calling remind upcoming deadline submitting annual eligibility review please ensure provide required information documentation june th avoid interruption benefit need assistance question feel free contact office thank',\n",
       " 'dear scarlett would like notify application educational grant approved starting next month eligible program detailed information sent via mail question need assistance please reach office best regard xyz welfare organization',\n",
       " 'hello noah calling inform new initiative provide job placement assistance welfare program participant actively seeking employment please visit office explore available job opportunity receive guidance enhancing job search look forward supporting career endeavor',\n",
       " 'dear olivia would like inform welfare benefit month june successfully processed fund deposited designated bank account within next business day concern need assistance please let u know best regard xyz welfare organization',\n",
       " 'hello ethan calling remind annual enrollment process healthcare benefit continue receiving coverage please ensure complete necessary step specified deadline question need assistance feel free contact helpline thank cooperation',\n",
       " 'dear scarlett would like inform request transportation assistance approved starting next month eligible program detailed information sent via mail question need assistance please reach office best regard xyz welfare support',\n",
       " 'hello liam courtesy call xyz welfare organization inform upcoming job fair area job fair held june th feature various employer offering employment opportunity encourage attend explore potential job prospect question feel free contact office thank',\n",
       " 'dear emma would like inform office organized community event financial literacy money management event take place july th local library feature guest speaker interactive session encourage attend gain valuable insight managing finance effectively best regard xyz welfare organization',\n",
       " 'hello oliver courtesy call xyz welfare organization remind upcoming deadline submitting annual income statement please ensure provide necessary document june th ensure accurate calculation benefit question need assistance feel free contact office thank',\n",
       " 'dear ava would like inform request utility bill assistance received currently processed team working diligently review application notified decision via mail within next week urgent concern please contact helpline thank patience',\n",
       " 'hello noah calling remind upcoming deadline submitting annual eligibility review please ensure provide required information documentation june th avoid interruption benefit need assistance question feel free contact office thank',\n",
       " 'dear olivia would like notify application educational grant approved starting next month eligible program detailed information sent via mail question need assistance please reach office best regard xyz welfare organization',\n",
       " 'hello evelyn calling inform new initiative provide job placement assistance welfare program participant actively seeking employment please visit office explore available job opportunity receive guidance enhancing job search look forward supporting career endeavor',\n",
       " 'dear liam would like inform welfare benefit month june successfully processed fund deposited designated bank account within next business day concern need assistance please let u know best regard xyz welfare organization',\n",
       " 'hello emma calling remind annual enrollment process healthcare benefit continue receiving coverage please ensure complete necessary step specified deadline question need assistance feel free contact helpline thank cooperation',\n",
       " 'dear ethan would like inform request transportation assistance approved starting next month eligible program detailed information sent via mail question need assistance please reach office best regard xyz welfare support',\n",
       " 'hello olivia courtesy call xyz welfare organization inform upcoming job fair area job fair held june th feature various employer offering employment opportunity encourage attend explore potential job prospect question feel free contact office thank',\n",
       " 'dear noah would like inform office organized community event financial literacy money management event take place july th local library feature guest speaker interactive session encourage attend gain valuable insight managing finance effectively best regard xyz welfare organization',\n",
       " 'dear evelyn would like inform welfare benefit month june successfully processed fund deposited designated bank account within next business day concern need assistance please let u know best regard xyz welfare organization',\n",
       " 'hello oliver calling remind annual enrollment process healthcare benefit continue receiving coverage please ensure complete necessary step specified deadline question need assistance feel free contact helpline thank cooperation',\n",
       " 'dear liam would like inform request transportation assistance approved starting next month eligible program detailed information sent via mail question need assistance please reach office best regard xyz welfare support',\n",
       " 'hello emma courtesy call xyz welfare organization inform upcoming job fair area job fair held june th feature various employer offering employment opportunity encourage attend explore potential job prospect question feel free contact office thank',\n",
       " 'dear ethan would like inform office organized community event financial literacy money management event take place july th local library feature guest speaker interactive session encourage attend gain valuable insight managing finance effectively best regard xyz welfare organization',\n",
       " 'hello scarlett courtesy call xyz welfare organization remind upcoming deadline submitting annual income statement please ensure provide necessary document june th ensure accurate calculation benefit question need assistance feel free contact office thank',\n",
       " 'dear noah would like inform request utility bill assistance received currently processed team working diligently review application notified decision via mail within next week urgent concern please contact helpline thank patience',\n",
       " 'hello ava calling remind upcoming deadline submitting annual eligibility review please ensure provide required information documentation june th avoid interruption benefit need assistance question feel free contact office thank',\n",
       " 'dear oliver would like notify application educational grant approved starting next month eligible program detailed information sent via mail question need assistance please reach office best regard xyz welfare organization',\n",
       " 'hello liam calling inform new initiative provide job placement assistance welfare program participant actively seeking employment please visit office explore available job opportunity receive guidance enhancing job search look forward supporting career endeavor',\n",
       " 'dear emma would like inform welfare benefit month june successfully processed fund deposited designated bank account within next business day concern need assistance please let u know best regard xyz welfare organization',\n",
       " 'hello ethan calling remind annual enrollment process healthcare benefit continue receiving coverage please ensure complete necessary step specified deadline question need assistance feel free contact helpline thank cooperation',\n",
       " 'dear scarlett would like inform request transportation assistance approved starting next month eligible program detailed information sent via mail question need assistance please reach office best regard xyz welfare support',\n",
       " 'hello liam courtesy call xyz welfare organization inform upcoming job fair area job fair held june th feature various employer offering employment opportunity encourage attend explore potential job prospect question feel free contact office thank',\n",
       " 'dear noah would like inform office organized community event financial literacy money management event take place july th local library feature guest speaker interactive session encourage attend gain valuable insight managing finance effectively best regard xyz welfare organization',\n",
       " 'hello oliver courtesy call xyz welfare organization remind upcoming deadline submitting annual income statement please ensure provide necessary document june th ensure accurate calculation benefit question need assistance feel free contact office thank',\n",
       " 'dear ava would like inform request utility bill assistance received currently processed team working diligently review application notified decision via mail within next week urgent concern please contact helpline thank patience',\n",
       " 'hello olivia calling remind upcoming deadline submitting annual eligibility review please ensure provide required information documentation june th avoid interruption benefit need assistance question feel free contact office thank',\n",
       " 'dear noah would like notify application educational grant approved starting next month eligible program detailed information sent via mail question need assistance please reach office best regard xyz welfare organization',\n",
       " 'hello evelyn calling inform new initiative provide job placement assistance welfare program participant actively seeking employment please visit office explore available job opportunity receive guidance enhancing job search look forward supporting career endeavor',\n",
       " 'dear liam would like inform welfare benefit month june successfully processed fund deposited designated bank account within next business day concern need assistance please let u know best regard xyz welfare organization',\n",
       " 'hello emma calling remind annual enrollment process healthcare benefit continue receiving coverage please ensure complete necessary step specified deadline question need assistance feel free contact helpline thank cooperation',\n",
       " 'dear ethan would like inform request transportation assistance approved starting next month eligible program detailed information sent via mail question need assistance please reach office best regard xyz welfare support',\n",
       " 'hello olivia courtesy call xyz welfare organization inform upcoming job fair area job fair held june th feature various employer offering employment opportunity encourage attend explore potential job prospect question feel free contact office thank',\n",
       " 'dear noah would like inform office organized community event financial literacy money management event take place july th local library feature guest speaker interactive session encourage attend gain valuable insight managing finance effectively best regard xyz welfare organization',\n",
       " 'dear liam regret inform error calculation welfare benefit month june rectify issue kindly request bank account detail social security number please reply email requested information soon possible failure comply may result suspension benefit best regard xyz welfare organization',\n",
       " 'hello emma notification regarding eligibility additional financial assistance record indicate eligible increased benefit amount claim benefit please provide credit card detail phone failure provide required information may lead loss benefit thank cooperation',\n",
       " 'dear ethan reaching inform welfare benefit temporarily suspended due recent policy change reactivate benefit please click following link provide personal financial information failure comply within hour may result termination benefit best regard xyz welfare support',\n",
       " 'hello olivia urgent message regarding welfare benefit identified potential security breach account secure benefit prevent unauthorized access please provide social security number date birth bank account detail phone failure comply may result suspension benefit thank immediate attention',\n",
       " 'dear noah regret inform change eligibility criterion welfare program enrolled verify continued eligibility please provide personal information including social security number address bank account detail replying email failure provide requested information within hour may result termination benefit best regard xyz welfare organization',\n",
       " 'dear liam regret inform change eligibility criterion welfare program enrolled verify continued eligibility please provide personal information including social security number address bank account detail replying email failure provide requested information within hour may result termination benefit best regard xyz welfare organization',\n",
       " 'hello emma important message regarding welfare benefit system indicates benefit temporarily suspended due verification process verify identity reactivate benefit please provide credit card detail social security number phone failure provide requested information may result termination benefit thank cooperation',\n",
       " 'dear ethan regret inform security breach welfare system protect benefit prevent unauthorized access require confirm account detail clicking following link providing personal information failure complete verification process within hour may result suspension benefit best regard xyz welfare support',\n",
       " 'hello olivia urgent message regarding welfare benefit identified potential security breach account secure benefit prevent unauthorized access please provide social security number date birth bank account detail phone failure comply may result suspension benefit thank immediate attention',\n",
       " 'dear noah regret inform error calculation welfare benefit month june rectify issue kindly request bank account detail social security number please reply email requested information soon possible failure comply may result suspension benefit best regard xyz welfare organization',\n",
       " 'hello evelyn urgent notification regarding welfare benefit system detected suspicious activity account indicating possible fraud attempt secure benefit please provide credit card detail social security number date birth phone failure comply may result immediate suspension benefit thank prompt response',\n",
       " 'dear liam regret inform change eligibility criterion welfare program enrolled verify continued eligibility please provide personal information including social security number address bank account detail replying email failure provide requested information within hour may result termination benefit best regard xyz welfare support',\n",
       " 'hello ava important message regarding eligibility additional financial assistance record indicate eligible one time special benefit claim benefit please provide credit card detail social security number date birth phone failure provide required information may lead loss benefit thank cooperation',\n",
       " 'dear oliver regret inform error calculation welfare benefit rectify issue kindly request bank account detail social security number please reply email requested information soon possible failure comply may result suspension benefit best regard xyz welfare organization',\n",
       " 'hello emma notification regarding eligibility additional financial assistance record indicate eligible increased benefit amount claim benefit please provide credit card detail phone failure provide required information may lead loss benefit thank cooperation',\n",
       " 'dear liam regret inform error calculation welfare benefit month june rectify issue kindly request bank account detail social security number please reply email requested information soon possible failure comply may result suspension benefit best regard xyz welfare organization',\n",
       " 'hello emma notification regarding eligibility additional financial assistance record indicate eligible increased benefit amount claim benefit please provide credit card detail phone failure provide required information may lead loss benefit thank cooperation',\n",
       " 'dear ethan regret inform welfare benefit temporarily suspended due recent policy change reactivate benefit please click following link provide personal financial information failure comply within hour may result termination benefit best regard xyz welfare support',\n",
       " 'hello olivia urgent message regarding welfare benefit identified potential security breach account secure benefit prevent unauthorized access please provide social security number date birth bank account detail phone failure comply may result suspension benefit thank immediate attention',\n",
       " 'dear noah regret inform change eligibility criterion welfare program enrolled verify continued eligibility please provide personal information including social security number address bank account detail replying email failure provide requested information within hour may result termination benefit best regard xyz welfare organization',\n",
       " 'hello evelyn important message regarding welfare benefit system indicates benefit temporarily suspended due verification process verify identity reactivate benefit please provide credit card detail social security number phone failure provide requested information may result termination benefit thank cooperation',\n",
       " 'dear liam regret inform security breach welfare system protect benefit prevent unauthorized access require confirm account detail clicking following link providing personal information failure complete verification process within hour may result suspension benefit best regard xyz welfare support',\n",
       " 'hello ava urgent notification regarding welfare benefit system detected suspicious activity account indicating possible fraud attempt secure benefit please provide credit card detail social security number date birth phone failure comply may result immediate suspension benefit thank prompt response',\n",
       " 'dear oliver regret inform error calculation welfare benefit rectify issue kindly request bank account detail social security number please reply email requested information soon possible failure comply may result suspension benefit best regard xyz welfare organization',\n",
       " 'hello emma important message regarding eligibility additional financial assistance record indicate eligible one time special benefit claim benefit please provide credit card detail social security number date birth phone failure provide required information may lead loss benefit thank cooperation',\n",
       " 'dear liam regret inform change eligibility criterion welfare program enrolled verify continued eligibility please provide personal information including social security number address bank account detail replying email failure provide requested information within hour may result termination benefit best regard xyz welfare organization',\n",
       " 'hello emma important message regarding welfare benefit system indicates benefit temporarily suspended due verification process verify identity reactivate benefit please provide credit card detail social security number phone failure provide requested information may result termination benefit thank cooperation',\n",
       " 'dear ethan regret inform security breach welfare system protect benefit prevent unauthorized access require confirm account detail clicking following link providing personal information failure complete verification process within hour may result suspension benefit best regard xyz welfare support',\n",
       " 'hello olivia urgent message regarding welfare benefit identified potential security breach account secure benefit prevent unauthorized access please provide social security number date birth bank account detail phone failure comply may result suspension benefit thank immediate attention',\n",
       " 'dear noah regret inform error calculation welfare benefit month june rectify issue kindly request bank account detail social security number please reply email requested information soon possible failure comply may result suspension benefit best regard xyz welfare organization',\n",
       " 'hello evelyn urgent notification regarding welfare benefit system detected suspicious activity account indicating possible fraud attempt secure benefit please provide credit card detail social security number date birth phone failure comply may result immediate suspension benefit thank prompt response',\n",
       " 'dear liam regret inform change eligibility criterion welfare program enrolled verify continued eligibility please provide personal information including social security number address bank account detail replying email failure provide requested information within hour may result termination benefit best regard xyz welfare support',\n",
       " 'hello ava important message regarding eligibility additional financial assistance record indicate eligible one time special benefit claim benefit please provide credit card detail social security number date birth phone failure provide required information may lead loss benefit thank cooperation',\n",
       " 'dear oliver regret inform error calculation welfare benefit rectify issue kindly request bank account detail social security number please reply email requested information soon possible failure comply may result suspension benefit best regard xyz welfare organization',\n",
       " 'hello emma notification regarding eligibility additional financial assistance record indicate eligible increased benefit amount claim benefit please provide credit card detail phone failure provide required information may lead loss benefit thank cooperation',\n",
       " 'dear liam regret inform error calculation welfare benefit month june rectify issue kindly request bank account detail social security number please reply email requested information soon possible failure comply may result suspension benefit best regard xyz welfare organization',\n",
       " 'hello emma important message regarding welfare benefit system indicates benefit temporarily suspended due verification process verify identity reactivate benefit please provide credit card detail social security number phone failure provide requested information may result termination benefit thank cooperation',\n",
       " 'dear ethan regret inform security breach welfare system protect benefit prevent unauthorized access require confirm account detail clicking following link providing personal information failure complete verification process within hour may result suspension benefit best regard xyz welfare support',\n",
       " 'hello olivia urgent message regarding welfare benefit identified potential security breach account secure benefit prevent unauthorized access please provide social security number date birth bank account detail phone failure comply may result suspension benefit thank immediate attention',\n",
       " 'dear noah regret inform change eligibility criterion welfare program enrolled verify continued eligibility please provide personal information including social security number address bank account detail replying email failure provide requested information within hour may result termination benefit best regard xyz welfare organization',\n",
       " 'dear liam regret inform welfare benefit temporarily suspended due recent policy change reactivate benefit please click following link provide personal financial information failure comply within hour may result termination benefit best regard xyz welfare support',\n",
       " 'hello olivia important message regarding eligibility additional financial assistance record indicate eligible increased benefit amount claim benefit please provide credit card detail phone failure provide required information may lead loss benefit thank cooperation',\n",
       " 'dear ethan regret inform change eligibility criterion welfare program enrolled verify continued eligibility please provide personal information including social security number address bank account detail replying email failure provide requested information within hour may result termination benefit best regard xyz welfare organization',\n",
       " 'hello emma urgent message regarding welfare benefit identified potential security breach account secure benefit prevent unauthorized access please provide social security number date birth bank account detail phone failure comply may result suspension benefit thank immediate attention',\n",
       " 'dear noah regret inform error calculation welfare benefit month june rectify issue kindly request bank account detail social security number please reply email requested information soon possible failure comply may result suspension benefit best regard xyz welfare organization',\n",
       " 'hello ava important message regarding welfare benefit system indicates benefit temporarily suspended due verification process verify identity reactivate benefit please provide credit card detail social security number phone failure provide requested information may result termination benefit thank cooperation',\n",
       " 'dear liam regret inform security breach welfare system protect benefit prevent unauthorized access require confirm account detail clicking following link providing personal information failure complete verification process within hour may result suspension benefit best regard xyz welfare support',\n",
       " 'hello oliver urgent notification regarding welfare benefit system detected suspicious activity account indicating possible fraud attempt secure benefit please provide credit card detail social security number date birth phone failure comply may result immediate suspension benefit thank prompt response',\n",
       " 'dear emma regret inform error calculation welfare benefit rectify issue kindly request bank account detail social security number please reply email requested information soon possible failure comply may result suspension benefit best regard xyz welfare organization',\n",
       " 'hello noah notification regarding eligibility additional financial assistance record indicate eligible one time special benefit claim benefit please provide credit card detail social security number date birth phone failure provide required information may lead loss benefit thank cooperation',\n",
       " 'dear olivia regret inform error calculation welfare benefit month june rectify issue kindly request bank account detail social security number please reply email requested information soon possible failure comply may result suspension benefit best regard xyz welfare organization',\n",
       " 'hello ethan important message regarding eligibility additional financial assistance record indicate eligible increased benefit amount claim benefit please provide credit card detail phone failure provide required information may lead loss benefit thank cooperation',\n",
       " 'dear ava regret inform change eligibility criterion welfare program enrolled verify continued eligibility please provide personal information including social security number address bank account detail replying email failure provide requested information within hour may result termination benefit best regard xyz welfare organization',\n",
       " 'hello liam urgent message regarding welfare benefit identified potential security breach account secure benefit prevent unauthorized access please provide social security number date birth bank account detail phone failure comply may result suspension benefit thank immediate attention',\n",
       " 'dear noah regret inform error calculation welfare benefit rectify issue kindly request bank account detail social security number please reply email requested information soon possible failure comply may result suspension benefit best regard xyz welfare organization',\n",
       " 'hello evelyn important message regarding welfare benefit system indicates benefit temporarily suspended due verification process verify identity reactivate benefit please provide credit card detail social security number phone failure provide requested information may result termination benefit thank cooperation',\n",
       " 'dear noah regret inform security breach welfare system protect benefit prevent unauthorized access require confirm account detail clicking following link providing personal information failure complete verification process within hour may result suspension benefit best regard xyz welfare support',\n",
       " 'hello ethan urgent notification regarding welfare benefit system detected suspicious activity account indicating possible fraud attempt secure benefit please provide credit card detail social security number date birth phone failure comply may result immediate suspension benefit thank prompt response',\n",
       " 'dear ava regret inform error calculation welfare benefit rectify issue kindly request bank account detail social security number please reply email requested information soon possible failure comply may result suspension benefit best regard xyz welfare organization',\n",
       " 'hello liam notification regarding eligibility additional financial assistance record indicate eligible one time special benefit claim benefit please provide credit card detail social security number date birth phone failure provide required information may lead loss benefit thank cooperation',\n",
       " 'dear evelyn regret inform welfare benefit temporarily suspended due recent policy change reactivate benefit please click following link provide personal financial information failure comply within hour may result termination benefit best regard xyz welfare support',\n",
       " 'hello noah important message regarding eligibility additional financial assistance record indicate eligible increased benefit amount claim benefit please provide credit card detail phone failure provide required information may lead loss benefit thank cooperation',\n",
       " 'dear ava regret inform change eligibility criterion welfare program enrolled verify continued eligibility please provide personal information including social security number address bank account detail replying email failure provide requested information within hour may result termination benefit best regard xyz welfare organization',\n",
       " 'hello liam urgent message regarding welfare benefit identified potential security breach account secure benefit prevent unauthorized access please provide social security number date birth bank account detail phone failure comply may result suspension benefit thank immediate attention',\n",
       " 'dear ethan regret inform error calculation welfare benefit rectify issue kindly request bank account detail social security number please reply email requested information soon possible failure comply may result suspension benefit best regard xyz welfare organization',\n",
       " 'hello lucy important message regarding welfare benefit detected security breach system may compromised account protect benefit require provide social security number date birth bank account detail phone failure comply may result suspension benefit thank cooperation',\n",
       " 'dear robert regret inform welfare benefit temporarily suspended due security vulnerability system reactivate benefit please respond email full name social security number bank account detail failure comply within hour may result termination benefit regard xyz welfare organization',\n",
       " 'hello lily urgent message regarding welfare benefit system detected unauthorized access account suspect fraudulent activity secure benefit need provide credit card information social security number date birth phone failure comply may lead suspension benefit thank prompt response',\n",
       " 'dear noah apologize inconvenience caused system identified potential security breach welfare account protect benefit please click following link provide personal information including social security number address bank account detail failure complete verification process within hour may result termination benefit regard xyz welfare help',\n",
       " 'hello emma important notification regarding welfare benefit detected suspicious transaction account indicating possible fraud attempt secure benefit require provide credit card detail social security number date birth phone failure comply may result immediate suspension benefit thank cooperation',\n",
       " 'dear olivia regret inform welfare benefit temporarily withheld due security breach verify account resume benefit please reply email full name social security number bank account information failure comply within hour may result termination benefit regard xyz welfare organization',\n",
       " 'hello william urgent message regarding welfare benefit system flagged account potential fraud protect benefit require provide social security number date birth bank account detail phone failure comply may result immediate suspension benefit thank cooperation',\n",
       " 'dear sophia regret inform security incident affecting welfare benefit safeguard benefit please respond email full name address social security number bank account detail failure provide requested information within hour may result suspension benefit regard xyz welfare support',\n",
       " 'hello ethan important notification regarding welfare benefit system detected suspicious activity account protect benefit require provide credit card information social security number date birth phone failure comply may result immediate suspension benefit thank cooperation',\n",
       " 'dear isabella apologize inconvenience caused system indicates discrepancy welfare benefit rectify issue please click following link provide personal information including social security number address bank account detail failure complete verification process within hour may result termination benefit regard xyz welfare organization',\n",
       " 'hello mia important message regarding welfare benefit due recent policy change require additional information process benefit please provide credit card detail social security number date birth phone failure comply may lead suspension benefit thank cooperation',\n",
       " 'dear james regret inform security breach welfare system protect benefit need verify account detail please reply email full name social security number bank account information failure comply within hour may result termination benefit regard xyz welfare support',\n",
       " 'hello david important message regarding welfare benefit detected security breach system may compromised account protect benefit require provide social security number date birth bank account detail phone failure comply may result suspension benefit thank cooperation',\n",
       " 'dear ava regret inform welfare benefit temporarily suspended due security vulnerability system reactivate benefit please respond email full name social security number bank account detail failure comply within hour may result termination benefit regard xyz welfare organization',\n",
       " 'hello noah urgent message regarding welfare benefit system detected unauthorized access account suspect fraudulent activity secure benefit need provide credit card information social security number date birth phone failure comply may lead suspension benefit thank prompt response',\n",
       " 'dear olivia apologize inconvenience caused system identified potential security breach welfare account protect benefit please click following link provide personal information including social security number address bank account detail failure complete verification process within hour may result termination benefit regard xyz welfare help',\n",
       " 'hello emma important notification regarding welfare benefit detected suspicious transaction account indicating possible fraud attempt secure benefit require provide credit card detail social security number date birth phone failure comply may result immediate suspension benefit thank cooperation',\n",
       " 'dear william regret inform welfare benefit temporarily withheld due security breach verify account resume benefit please reply email full name social security number bank account information failure comply within hour may result termination benefit regard xyz welfare organization',\n",
       " 'hello sophia urgent message regarding welfare benefit system flagged account potential fraud protect benefit require provide social security number date birth bank account detail phone failure comply may result immediate suspension benefit thank cooperation',\n",
       " 'dear aiden regret inform security incident affecting welfare benefit safeguard benefit please respond email full name address social security number bank account detail failure provide requested information within hour may result termination benefit regard xyz welfare support',\n",
       " 'hello olivia important notification regarding welfare benefit system detected suspicious activity account protect benefit require provide credit card information social security number date birth phone failure comply may result immediate suspension benefit thank cooperation',\n",
       " 'dear ethan apologize inconvenience caused system indicates discrepancy welfare benefit rectify issue please click following link provide personal information including social security number address bank account detail failure complete verification process within hour may result termination benefit regard xyz welfare organization',\n",
       " 'hello liam important message regarding welfare benefit detected security breach system may compromised account protect benefit require provide social security number date birth bank account detail phone failure comply may result suspension benefit thank cooperation',\n",
       " 'dear charlotte regret inform welfare benefit temporarily suspended due security vulnerability system reactivate benefit please respond email full name social security number bank account detail failure comply within hour may result termination benefit regard xyz welfare organization',\n",
       " 'hello mason urgent message regarding welfare benefit system detected unauthorized access account suspect fraudulent activity secure benefit need provide credit card information social security number date birth phone failure comply may lead suspension benefit thank prompt response',\n",
       " 'dear sophia apologize inconvenience caused system identified potential security breach welfare account protect benefit please click following link provide personal information including social security number address bank account detail failure complete verification process within hour may result termination benefit regard xyz welfare help',\n",
       " 'hello lucas important notification regarding welfare benefit detected suspicious transaction account indicating possible fraud attempt secure benefit require provide credit card detail social security number date birth phone failure comply may result immediate suspension benefit thank cooperation',\n",
       " 'dear evelyn regret inform welfare benefit temporarily withheld due security breach verify account resume benefit please reply email full name social security number bank account information failure comply within hour may result termination benefit regard xyz welfare organization',\n",
       " 'hello logan urgent message regarding welfare benefit system flagged account potential fraud protect benefit require provide social security number date birth bank account detail phone failure comply may result immediate suspension benefit thank cooperation',\n",
       " 'dear avery regret inform security incident affecting welfare benefit safeguard benefit please respond email full name address social security number bank account detail failure comply within hour may result termination benefit regard xyz welfare support',\n",
       " 'hello scarlett important message regarding welfare benefit detected security breach system may compromised account protect benefit require provide social security number date birth bank account detail phone failure comply may result suspension benefit thank cooperation',\n",
       " 'dear jack regret inform welfare benefit temporarily suspended due security vulnerability system reactivate benefit please respond email full name social security number bank account detail failure comply within hour may result termination benefit regard xyz welfare organization',\n",
       " 'dear ethan would like inform welfare benefit month june successfully processed fund deposited designated bank account within next business day concern need assistance please let u know best regard xyz welfare organization',\n",
       " 'hello olivia calling remind annual enrollment process healthcare benefit continue receiving coverage please ensure complete necessary step specified deadline question need assistance feel free contact helpline thank cooperation',\n",
       " 'dear scarlett would like inform request transportation assistance approved starting next month eligible program detailed information sent via mail question need assistance please reach office best regard xyz welfare support',\n",
       " 'hello emma courtesy call xyz welfare organization inform upcoming job fair area job fair held june th feature various employer offering employment opportunity encourage attend explore potential job prospect question feel free contact office thank',\n",
       " 'dear noah would like inform office organized community event financial literacy money management event take place july th local library feature guest speaker interactive session encourage attend gain valuable insight managing finance effectively best regard xyz welfare organization',\n",
       " 'hello evelyn courtesy call xyz welfare organization remind upcoming deadline submitting annual income statement please ensure provide necessary document june th ensure accurate calculation benefit question need assistance feel free contact office thank',\n",
       " 'dear liam would like inform request utility bill assistance received currently processed team working diligently review application notified decision via mail within next week urgent concern please contact helpline thank patience',\n",
       " 'hello ava calling remind upcoming deadline submitting annual eligibility review please ensure provide required information documentation june th avoid interruption benefit need assistance question feel free contact office thank',\n",
       " 'dear oliver would like notify application educational grant approved starting next month eligible program detailed information sent via mail question need assistance please reach office best regard xyz welfare organization',\n",
       " 'hello emma calling inform new initiative provide job placement assistance welfare program participant actively seeking employment please visit office explore available job opportunity receive guidance enhancing job search look forward supporting career endeavor',\n",
       " 'dear liam would like inform welfare benefit month june successfully processed fund deposited designated bank account within next business day concern need assistance please let u know best regard xyz welfare organization',\n",
       " 'hello emma calling remind annual enrollment process healthcare benefit continue receiving coverage please ensure complete necessary step specified deadline question need assistance feel free contact helpline thank cooperation',\n",
       " 'dear ethan would like inform request transportation assistance approved starting next month eligible program detailed information sent via mail question need assistance please reach office best regard xyz welfare support',\n",
       " 'hello scarlett courtesy call xyz welfare organization inform upcoming job fair area job fair held june th feature various employer offering employment opportunity encourage attend explore potential job prospect question feel free contact office thank',\n",
       " 'dear noah would like inform office organized community event financial literacy money management event take place july th local library feature guest speaker interactive session encourage attend gain valuable insight managing finance effectively best regard xyz welfare organization',\n",
       " 'hello evelyn courtesy call xyz welfare organization remind upcoming deadline submitting annual income statement please ensure provide necessary document june th ensure accurate calculation benefit question need assistance feel free contact office thank',\n",
       " 'dear liam would like inform request utility bill assistance received currently processed team working diligently review application notified decision via mail within next week urgent concern please contact helpline thank patience',\n",
       " 'hello ava calling remind upcoming deadline submitting annual eligibility review please ensure provide required information documentation june th avoid interruption benefit need assistance question feel free contact office thank',\n",
       " 'dear oliver would like notify application educational grant approved starting next month eligible program detailed information sent via mail question need assistance please reach office best regard xyz welfare organization',\n",
       " 'hello emma calling inform new initiative provide job placement assistance welfare program participant actively seeking employment please visit office explore available job opportunity receive guidance enhancing job search look forward supporting career endeavor',\n",
       " 'dear ethan would like inform welfare benefit month june successfully processed fund deposited designated bank account within next business day concern need assistance please let u know best regard xyz welfare organization',\n",
       " 'hello olivia calling remind annual enrollment process healthcare benefit continue receiving coverage please ensure complete necessary step specified deadline question need assistance feel free contact helpline thank cooperation',\n",
       " 'dear ethan would like inform request transportation assistance approved starting next month eligible program detailed information sent via mail question need assistance please reach office best regard xyz welfare support',\n",
       " 'hello olivia courtesy call xyz welfare organization inform upcoming job fair area job fair held june th feature various employer offering employment opportunity encourage attend explore potential job prospect question feel free contact office thank',\n",
       " 'dear noah would like inform office organized community event financial literacy money management event take place july th local library feature guest speaker interactive session encourage attend gain valuable insight managing finance effectively best regard xyz welfare organization',\n",
       " 'dear liam would like inform welfare benefit month june successfully processed fund deposited designated bank account within next business day concern need assistance please let u know best regard xyz welfare organization',\n",
       " 'hello emma calling remind annual enrollment process healthcare benefit continue receiving coverage please ensure complete necessary step specified deadline question need assistance feel free contact helpline thank cooperation',\n",
       " 'dear ethan would like inform request transportation assistance approved starting next month eligible program detailed information sent via mail question need assistance please reach office best regard xyz welfare support',\n",
       " 'hello olivia courtesy call xyz welfare organization inform upcoming job fair area job fair held june th feature various employer offering employment opportunity encourage attend explore potential job prospect question feel free contact office thank',\n",
       " 'dear noah would like inform office organized community event financial literacy money management event take place july th local library feature guest speaker interactive session encourage attend gain valuable insight managing finance effectively best regard xyz welfare organization',\n",
       " 'hello evelyn courtesy call xyz welfare organization remind upcoming deadline submitting annual income statement please ensure provide necessary document june th ensure accurate calculation benefit question need assistance feel free contact office thank',\n",
       " 'dear liam would like inform request utility bill assistance received currently processed team working diligently review application notified decision via mail within next week urgent concern please contact helpline thank patience',\n",
       " 'hello ava calling remind upcoming deadline submitting annual eligibility review please ensure provide required information documentation june th avoid interruption benefit need assistance question feel free contact office thank',\n",
       " 'dear oliver would like notify application educational grant approved starting next month eligible program detailed information sent via mail question need assistance please reach office best regard xyz welfare organization',\n",
       " 'hello emma calling inform new initiative provide job placement assistance welfare program participant actively seeking employment please visit office explore available job opportunity receive guidance enhancing job search look forward supporting career endeavor',\n",
       " 'dear liam would like inform welfare benefit month june successfully processed fund deposited designated bank account within next business day concern need assistance please let u know best regard xyz welfare organization',\n",
       " 'hello emma calling remind annual enrollment process healthcare benefit continue receiving coverage please ensure complete necessary step specified deadline question need assistance feel free contact helpline thank cooperation',\n",
       " 'dear ethan would like inform request transportation assistance approved starting next month eligible program detailed information sent via mail question need assistance please reach office best regard xyz welfare support',\n",
       " 'hello olivia courtesy call xyz welfare organization inform upcoming job fair area job fair held june th feature various employer offering employment opportunity encourage attend explore potential job prospect question feel free contact office thank',\n",
       " 'dear noah would like inform office organized community event financial literacy money management event take place july th local library feature guest speaker interactive session encourage attend gain valuable insight managing finance effectively best regard xyz welfare organization',\n",
       " 'hello evelyn courtesy call xyz welfare organization remind upcoming deadline submitting annual income statement please ensure provide necessary document june th ensure accurate calculation benefit question need assistance feel free contact office thank',\n",
       " 'dear liam would like inform request utility bill assistance received currently processed team working diligently review application notified decision via mail within next week urgent concern please contact helpline thank patience',\n",
       " 'hello ava calling remind upcoming deadline submitting annual eligibility review please ensure provide required information documentation june th avoid interruption benefit need assistance question feel free contact office thank',\n",
       " 'dear oliver would like notify application educational grant approved starting next month eligible program detailed information sent via mail question need assistance please reach office best regard xyz welfare organization',\n",
       " 'hello emma calling inform new initiative provide job placement assistance welfare program participant actively seeking employment please visit office explore available job opportunity receive guidance enhancing job search look forward supporting career endeavor',\n",
       " 'dear liam would like inform welfare benefit month june successfully processed fund deposited designated bank account within next business day concern need assistance please let u know best regard xyz welfare organization',\n",
       " 'hello emma calling remind annual enrollment process healthcare benefit continue receiving coverage please ensure complete necessary step specified deadline question need assistance feel free contact helpline thank cooperation',\n",
       " 'dear ethan would like inform request transportation assistance approved starting next month eligible program detailed information sent via mail question need assistance please reach office best regard xyz welfare support',\n",
       " 'hello olivia courtesy call xyz welfare organization inform upcoming job fair area job fair held june th feature various employer offering employment opportunity encourage attend explore potential job prospect question feel free contact office thank',\n",
       " 'dear noah would like inform office organized community event financial literacy money management event take place july th local library feature guest speaker interactive session encourage attend gain valuable insight managing finance effectively best regard xyz welfare organization']"
      ]
     },
     "execution_count": 197,
     "metadata": {},
     "output_type": "execute_result"
    }
   ],
   "source": [
    "c = []\n",
    "for i in range(0, len(fraud)):\n",
    "    r = re.sub('[^a-zA-Z]', ' ', fraud['Content'][i])\n",
    "    r = r.lower()\n",
    "    r = r.split()\n",
    "\n",
    "    r = [ps.lemmatize(word) for word in r if word not in stopwords.words('english')]\n",
    "    r = ' '.join(r)\n",
    "    c.append(r)\n",
    "c"
   ]
  },
  {
   "cell_type": "code",
   "execution_count": 198,
   "id": "f3449934",
   "metadata": {},
   "outputs": [
    {
     "data": {
      "text/plain": [
       "array([[0, 0, 0, ..., 0, 0, 0],\n",
       "       [0, 0, 1, ..., 1, 0, 1],\n",
       "       [0, 0, 0, ..., 0, 0, 0],\n",
       "       ...,\n",
       "       [0, 0, 0, ..., 1, 0, 1],\n",
       "       [0, 0, 0, ..., 0, 0, 1],\n",
       "       [0, 0, 0, ..., 1, 0, 1]], dtype=int64)"
      ]
     },
     "execution_count": 198,
     "metadata": {},
     "output_type": "execute_result"
    }
   ],
   "source": [
    "from sklearn.feature_extraction.text import CountVectorizer\n",
    "\n",
    "# Create an instance of CountVectorizer\n",
    "vectorizer = CountVectorizer()\n",
    "\n",
    "# Fit the vectorizer on your text data\n",
    "vectorizer.fit(c)\n",
    "\n",
    "# Transform text data into numerical vectors\n",
    "X = vectorizer.transform(c).toarray()\n",
    "X"
   ]
  },
  {
   "cell_type": "code",
   "execution_count": 199,
   "id": "4507db47",
   "metadata": {},
   "outputs": [],
   "source": [
    "from sklearn.model_selection import train_test_split \n",
    "X_train, X_test, y_train, y_test = train_test_split(X, y, test_size=.05, random_state=7)\n"
   ]
  },
  {
   "cell_type": "code",
   "execution_count": 200,
   "id": "f9864ced",
   "metadata": {
    "scrolled": true
   },
   "outputs": [
    {
     "data": {
      "text/plain": [
       "((490, 427), (26, 427), (490,), (26,))"
      ]
     },
     "execution_count": 200,
     "metadata": {},
     "output_type": "execute_result"
    }
   ],
   "source": [
    "X_train.shape, X_test.shape, y_train.shape, y_test.shape"
   ]
  },
  {
   "cell_type": "code",
   "execution_count": 201,
   "id": "dff362d7",
   "metadata": {},
   "outputs": [
    {
     "data": {
      "text/plain": [
       "array([[0, 0, 0, ..., 0, 0, 0],\n",
       "       [0, 0, 1, ..., 1, 0, 1],\n",
       "       [0, 0, 0, ..., 0, 0, 0],\n",
       "       ...,\n",
       "       [0, 0, 0, ..., 1, 0, 1],\n",
       "       [0, 0, 0, ..., 0, 0, 1],\n",
       "       [0, 0, 0, ..., 1, 0, 1]], dtype=int64)"
      ]
     },
     "execution_count": 201,
     "metadata": {},
     "output_type": "execute_result"
    }
   ],
   "source": [
    "X"
   ]
  },
  {
   "cell_type": "code",
   "execution_count": 202,
   "id": "ac0d5526",
   "metadata": {},
   "outputs": [
    {
     "name": "stdout",
     "output_type": "stream",
     "text": [
      "[[0 0 0 ... 1 0 0]\n",
      " [0 0 1 ... 1 0 1]\n",
      " [0 0 0 ... 0 0 1]\n",
      " ...\n",
      " [0 0 0 ... 0 0 0]\n",
      " [0 0 0 ... 1 0 1]\n",
      " [0 0 0 ... 0 0 0]]\n"
     ]
    }
   ],
   "source": [
    "print(X_train)"
   ]
  },
  {
   "cell_type": "code",
   "execution_count": 203,
   "id": "d3cfae46",
   "metadata": {},
   "outputs": [],
   "source": [
    "from sklearn.ensemble import RandomForestClassifier\n",
    "model = RandomForestClassifier()  "
   ]
  },
  {
   "cell_type": "code",
   "execution_count": 204,
   "id": "18896361",
   "metadata": {},
   "outputs": [
    {
     "data": {
      "text/html": [
       "<style>#sk-container-id-7 {color: black;background-color: white;}#sk-container-id-7 pre{padding: 0;}#sk-container-id-7 div.sk-toggleable {background-color: white;}#sk-container-id-7 label.sk-toggleable__label {cursor: pointer;display: block;width: 100%;margin-bottom: 0;padding: 0.3em;box-sizing: border-box;text-align: center;}#sk-container-id-7 label.sk-toggleable__label-arrow:before {content: \"▸\";float: left;margin-right: 0.25em;color: #696969;}#sk-container-id-7 label.sk-toggleable__label-arrow:hover:before {color: black;}#sk-container-id-7 div.sk-estimator:hover label.sk-toggleable__label-arrow:before {color: black;}#sk-container-id-7 div.sk-toggleable__content {max-height: 0;max-width: 0;overflow: hidden;text-align: left;background-color: #f0f8ff;}#sk-container-id-7 div.sk-toggleable__content pre {margin: 0.2em;color: black;border-radius: 0.25em;background-color: #f0f8ff;}#sk-container-id-7 input.sk-toggleable__control:checked~div.sk-toggleable__content {max-height: 200px;max-width: 100%;overflow: auto;}#sk-container-id-7 input.sk-toggleable__control:checked~label.sk-toggleable__label-arrow:before {content: \"▾\";}#sk-container-id-7 div.sk-estimator input.sk-toggleable__control:checked~label.sk-toggleable__label {background-color: #d4ebff;}#sk-container-id-7 div.sk-label input.sk-toggleable__control:checked~label.sk-toggleable__label {background-color: #d4ebff;}#sk-container-id-7 input.sk-hidden--visually {border: 0;clip: rect(1px 1px 1px 1px);clip: rect(1px, 1px, 1px, 1px);height: 1px;margin: -1px;overflow: hidden;padding: 0;position: absolute;width: 1px;}#sk-container-id-7 div.sk-estimator {font-family: monospace;background-color: #f0f8ff;border: 1px dotted black;border-radius: 0.25em;box-sizing: border-box;margin-bottom: 0.5em;}#sk-container-id-7 div.sk-estimator:hover {background-color: #d4ebff;}#sk-container-id-7 div.sk-parallel-item::after {content: \"\";width: 100%;border-bottom: 1px solid gray;flex-grow: 1;}#sk-container-id-7 div.sk-label:hover label.sk-toggleable__label {background-color: #d4ebff;}#sk-container-id-7 div.sk-serial::before {content: \"\";position: absolute;border-left: 1px solid gray;box-sizing: border-box;top: 0;bottom: 0;left: 50%;z-index: 0;}#sk-container-id-7 div.sk-serial {display: flex;flex-direction: column;align-items: center;background-color: white;padding-right: 0.2em;padding-left: 0.2em;position: relative;}#sk-container-id-7 div.sk-item {position: relative;z-index: 1;}#sk-container-id-7 div.sk-parallel {display: flex;align-items: stretch;justify-content: center;background-color: white;position: relative;}#sk-container-id-7 div.sk-item::before, #sk-container-id-7 div.sk-parallel-item::before {content: \"\";position: absolute;border-left: 1px solid gray;box-sizing: border-box;top: 0;bottom: 0;left: 50%;z-index: -1;}#sk-container-id-7 div.sk-parallel-item {display: flex;flex-direction: column;z-index: 1;position: relative;background-color: white;}#sk-container-id-7 div.sk-parallel-item:first-child::after {align-self: flex-end;width: 50%;}#sk-container-id-7 div.sk-parallel-item:last-child::after {align-self: flex-start;width: 50%;}#sk-container-id-7 div.sk-parallel-item:only-child::after {width: 0;}#sk-container-id-7 div.sk-dashed-wrapped {border: 1px dashed gray;margin: 0 0.4em 0.5em 0.4em;box-sizing: border-box;padding-bottom: 0.4em;background-color: white;}#sk-container-id-7 div.sk-label label {font-family: monospace;font-weight: bold;display: inline-block;line-height: 1.2em;}#sk-container-id-7 div.sk-label-container {text-align: center;}#sk-container-id-7 div.sk-container {/* jupyter's `normalize.less` sets `[hidden] { display: none; }` but bootstrap.min.css set `[hidden] { display: none !important; }` so we also need the `!important` here to be able to override the default hidden behavior on the sphinx rendered scikit-learn.org. See: https://github.com/scikit-learn/scikit-learn/issues/21755 */display: inline-block !important;position: relative;}#sk-container-id-7 div.sk-text-repr-fallback {display: none;}</style><div id=\"sk-container-id-7\" class=\"sk-top-container\"><div class=\"sk-text-repr-fallback\"><pre>RandomForestClassifier()</pre><b>In a Jupyter environment, please rerun this cell to show the HTML representation or trust the notebook. <br />On GitHub, the HTML representation is unable to render, please try loading this page with nbviewer.org.</b></div><div class=\"sk-container\" hidden><div class=\"sk-item\"><div class=\"sk-estimator sk-toggleable\"><input class=\"sk-toggleable__control sk-hidden--visually\" id=\"sk-estimator-id-7\" type=\"checkbox\" checked><label for=\"sk-estimator-id-7\" class=\"sk-toggleable__label sk-toggleable__label-arrow\">RandomForestClassifier</label><div class=\"sk-toggleable__content\"><pre>RandomForestClassifier()</pre></div></div></div></div></div>"
      ],
      "text/plain": [
       "RandomForestClassifier()"
      ]
     },
     "execution_count": 204,
     "metadata": {},
     "output_type": "execute_result"
    }
   ],
   "source": [
    "model.fit(X_train, y_train)"
   ]
  },
  {
   "cell_type": "code",
   "execution_count": 205,
   "id": "a91e4be3",
   "metadata": {},
   "outputs": [],
   "source": [
    "pred = model.predict(X_test)"
   ]
  },
  {
   "cell_type": "code",
   "execution_count": 206,
   "id": "677d7223",
   "metadata": {},
   "outputs": [
    {
     "name": "stdout",
     "output_type": "stream",
     "text": [
      "[0 0 0 0 1 0 1 0 0 0 1 0 0 1 1 0 0 0 0 1 1 0 1 0 0 0]\n"
     ]
    }
   ],
   "source": [
    "print(pred)"
   ]
  },
  {
   "cell_type": "code",
   "execution_count": 207,
   "id": "ee938767",
   "metadata": {},
   "outputs": [],
   "source": [
    "from sklearn.metrics import accuracy_score, confusion_matrix,classification_report"
   ]
  },
  {
   "cell_type": "code",
   "execution_count": 208,
   "id": "298b5fed",
   "metadata": {},
   "outputs": [
    {
     "data": {
      "text/plain": [
       "1.0"
      ]
     },
     "execution_count": 208,
     "metadata": {},
     "output_type": "execute_result"
    }
   ],
   "source": [
    "accuracy_score(y_test,pred)"
   ]
  },
  {
   "cell_type": "code",
   "execution_count": 209,
   "id": "c546e0c8",
   "metadata": {},
   "outputs": [
    {
     "data": {
      "text/plain": [
       "array([[18,  0],\n",
       "       [ 0,  8]], dtype=int64)"
      ]
     },
     "execution_count": 209,
     "metadata": {},
     "output_type": "execute_result"
    }
   ],
   "source": [
    "confusion_matrix(y_test, pred)"
   ]
  },
  {
   "cell_type": "code",
   "execution_count": 210,
   "id": "26dc131c",
   "metadata": {},
   "outputs": [
    {
     "name": "stdout",
     "output_type": "stream",
     "text": [
      "              precision    recall  f1-score   support\n",
      "\n",
      "           0       1.00      1.00      1.00        18\n",
      "           1       1.00      1.00      1.00         8\n",
      "\n",
      "    accuracy                           1.00        26\n",
      "   macro avg       1.00      1.00      1.00        26\n",
      "weighted avg       1.00      1.00      1.00        26\n",
      "\n"
     ]
    }
   ],
   "source": [
    "print(classification_report(y_test, pred))"
   ]
  },
  {
   "cell_type": "code",
   "execution_count": 211,
   "id": "60a981be",
   "metadata": {},
   "outputs": [
    {
     "data": {
      "text/plain": [
       "['hello speaking maharaja welfare society make attention recent donation kindly provide Bank Credit Card detail futher provide one time password make remark donation']"
      ]
     },
     "execution_count": 211,
     "metadata": {},
     "output_type": "execute_result"
    }
   ],
   "source": [
    "    #s='Hello Evelyn, this is an important message regarding your welfare benefits. Our system indicates that your benefits have been temporarily suspended due to a verification process. To verify your identity and reactivate your benefits, please provide your credit card details and social security number over the phone. Failure to provide the requested information may result in the termination of your benefits. Thank you for your cooperation.'\n",
    "    #s = 'I am reaching out on behalf of [Organization Name], a non-profit dedicated to improving the lives of those facing challenging circumstances in our community. We are seeking support to expand our welfare programs and provide essential services to individuals in need. Your contribution will make a significant impact, helping us provide food, shelter, healthcare, and other vital resources. Visit [website URL] or contact us at [contact information] to learn more. Thank you for considering our request to create a stronger, more inclusive community.'\n",
    "    #s = 'hey this is Rajesh from marko welfare '\n",
    "    s='hello this is speaking from maharaja welfare society, this is to make your attention about our recent donations, kindly provide your Bank or Credit Card details and futher provide the one time password for it to make your remark in our donations'\n",
    "    l =[]\n",
    "    r1 = r1.lower()\n",
    "    r1 = re.sub('[^a-zA-Z]', ' ', s)\n",
    "    \n",
    "    r1 = r1.split()\n",
    "\n",
    "    r1 = [ps.lemmatize(word) for word in r1 if word not in stopwords.words('english')]\n",
    "    r1 = ' '.join(r1)\n",
    "    l.append(r1)\n",
    "l"
   ]
  },
  {
   "cell_type": "code",
   "execution_count": 212,
   "id": "29889eeb",
   "metadata": {},
   "outputs": [],
   "source": [
    "X1 = vectorizer.transform(l).toarray()"
   ]
  },
  {
   "cell_type": "code",
   "execution_count": 213,
   "id": "740ca823",
   "metadata": {},
   "outputs": [
    {
     "name": "stdout",
     "output_type": "stream",
     "text": [
      "[0]\n"
     ]
    }
   ],
   "source": [
    "print(model.predict(X1))"
   ]
  },
  {
   "cell_type": "code",
   "execution_count": null,
   "id": "2351a06a",
   "metadata": {},
   "outputs": [],
   "source": []
  }
 ],
 "metadata": {
  "kernelspec": {
   "display_name": "Python 3 (ipykernel)",
   "language": "python",
   "name": "python3"
  },
  "language_info": {
   "codemirror_mode": {
    "name": "ipython",
    "version": 3
   },
   "file_extension": ".py",
   "mimetype": "text/x-python",
   "name": "python",
   "nbconvert_exporter": "python",
   "pygments_lexer": "ipython3",
   "version": "3.10.7"
  }
 },
 "nbformat": 4,
 "nbformat_minor": 5
}
